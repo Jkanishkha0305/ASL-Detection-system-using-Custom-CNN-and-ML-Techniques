{
  "cells": [
    {
      "cell_type": "markdown",
      "metadata": {
        "id": "view-in-github",
        "colab_type": "text"
      },
      "source": [
        "<a href=\"https://colab.research.google.com/github/Jkanishkha0305/Hand-gesture/blob/main/ml_classifier/train.ipynb\" target=\"_parent\"><img src=\"https://colab.research.google.com/assets/colab-badge.svg\" alt=\"Open In Colab\"/></a>"
      ]
    },
    {
      "cell_type": "code",
      "execution_count": null,
      "metadata": {
        "colab": {
          "base_uri": "https://localhost:8080/"
        },
        "outputId": "a9bad43e-57c7-4220-96f9-31842eaf5a43",
        "id": "_2aWmUvar2ND"
      },
      "outputs": [
        {
          "output_type": "stream",
          "name": "stdout",
          "text": [
            "Mounted at /content/drive\n"
          ]
        }
      ],
      "source": [
        "#mounting the drive so that it will be easier to read datasets and no need to upload in the colab everytime \n",
        "from google.colab import drive \n",
        "drive.mount('/content/drive')\n"
      ]
    },
    {
      "cell_type": "code",
      "execution_count": null,
      "metadata": {
        "id": "ns8CjJyBr2NH"
      },
      "outputs": [],
      "source": [
        "#importing all the necessary libraries\n",
        "import pandas as pd\n",
        "from sklearn.model_selection import train_test_split\n",
        "from sklearn.linear_model import LogisticRegression\n",
        "from sklearn.ensemble import RandomForestClassifier\n",
        "from sklearn.neighbors import KNeighborsClassifier\n",
        "from sklearn.naive_bayes import GaussianNB\n",
        "from sklearn.metrics import accuracy_score, confusion_matrix, classification_report, f1_score, recall_score, precision_score\n",
        "from sklearn.svm import SVC\n",
        "from sklearn.model_selection import GridSearchCV\n",
        "import seaborn as sns\n",
        "import matplotlib.pyplot as plt\n",
        "import numpy as np"
      ]
    },
    {
      "cell_type": "markdown",
      "source": [
        "For Datset collected from Kaggle"
      ],
      "metadata": {
        "id": "d1lqpzBFwXnv"
      }
    },
    {
      "cell_type": "code",
      "execution_count": null,
      "metadata": {
        "colab": {
          "base_uri": "https://localhost:8080/",
          "height": 236
        },
        "outputId": "2adbfd9e-d251-4981-be42-504496d80f95",
        "scrolled": true,
        "id": "Tb_-GSIWr2NI"
      },
      "outputs": [
        {
          "output_type": "execute_result",
          "data": {
            "text/plain": [
              "         0         1         2         3         4         5         6   \\\n",
              "0  0.000000  0.000000  0.000000  0.000000  0.000000  0.000000  0.000000   \n",
              "1  0.479899  0.856326  0.000001  0.377909  0.713071 -0.068753  0.366787   \n",
              "2  0.507039  0.882985  0.000001  0.389202  0.810820 -0.054068  0.328742   \n",
              "3  0.485468  0.945601  0.000001  0.354735  0.819937 -0.069007  0.329839   \n",
              "4  0.472641  0.945010  0.000001  0.351330  0.817465 -0.069957  0.334218   \n",
              "\n",
              "         7         8         9   ...        54        55        56        57  \\\n",
              "0  0.000000  0.000000  0.000000  ...  0.000000  0.000000  0.000000  0.000000   \n",
              "1  0.556996 -0.075835  0.478629  ...  0.678905  0.433316 -0.044493  0.648640   \n",
              "2  0.654581 -0.084417  0.401559  ...  0.619318  0.520379 -0.186026  0.557501   \n",
              "3  0.647306 -0.093267  0.444651  ...  0.679945  0.508066 -0.146448  0.626687   \n",
              "4  0.647094 -0.098873  0.451214  ...  0.683455  0.515603 -0.141344  0.628587   \n",
              "\n",
              "         58        59        60        61        62  63  \n",
              "0  0.000000  0.000000  0.000000  0.000000  0.000000   r  \n",
              "1  0.481058 -0.057290  0.614141  0.539022 -0.047723   r  \n",
              "2  0.614956 -0.170272  0.528143  0.693627 -0.136648   r  \n",
              "3  0.584557 -0.144781  0.581722  0.660929 -0.120851   r  \n",
              "4  0.589892 -0.129525  0.580399  0.661340 -0.099766   r  \n",
              "\n",
              "[5 rows x 64 columns]"
            ],
            "text/html": [
              "\n",
              "  <div id=\"df-ff0add59-d6a5-4c45-8d93-037761c8c1bc\">\n",
              "    <div class=\"colab-df-container\">\n",
              "      <div>\n",
              "<style scoped>\n",
              "    .dataframe tbody tr th:only-of-type {\n",
              "        vertical-align: middle;\n",
              "    }\n",
              "\n",
              "    .dataframe tbody tr th {\n",
              "        vertical-align: top;\n",
              "    }\n",
              "\n",
              "    .dataframe thead th {\n",
              "        text-align: right;\n",
              "    }\n",
              "</style>\n",
              "<table border=\"1\" class=\"dataframe\">\n",
              "  <thead>\n",
              "    <tr style=\"text-align: right;\">\n",
              "      <th></th>\n",
              "      <th>0</th>\n",
              "      <th>1</th>\n",
              "      <th>2</th>\n",
              "      <th>3</th>\n",
              "      <th>4</th>\n",
              "      <th>5</th>\n",
              "      <th>6</th>\n",
              "      <th>7</th>\n",
              "      <th>8</th>\n",
              "      <th>9</th>\n",
              "      <th>...</th>\n",
              "      <th>54</th>\n",
              "      <th>55</th>\n",
              "      <th>56</th>\n",
              "      <th>57</th>\n",
              "      <th>58</th>\n",
              "      <th>59</th>\n",
              "      <th>60</th>\n",
              "      <th>61</th>\n",
              "      <th>62</th>\n",
              "      <th>63</th>\n",
              "    </tr>\n",
              "  </thead>\n",
              "  <tbody>\n",
              "    <tr>\n",
              "      <th>0</th>\n",
              "      <td>0.000000</td>\n",
              "      <td>0.000000</td>\n",
              "      <td>0.000000</td>\n",
              "      <td>0.000000</td>\n",
              "      <td>0.000000</td>\n",
              "      <td>0.000000</td>\n",
              "      <td>0.000000</td>\n",
              "      <td>0.000000</td>\n",
              "      <td>0.000000</td>\n",
              "      <td>0.000000</td>\n",
              "      <td>...</td>\n",
              "      <td>0.000000</td>\n",
              "      <td>0.000000</td>\n",
              "      <td>0.000000</td>\n",
              "      <td>0.000000</td>\n",
              "      <td>0.000000</td>\n",
              "      <td>0.000000</td>\n",
              "      <td>0.000000</td>\n",
              "      <td>0.000000</td>\n",
              "      <td>0.000000</td>\n",
              "      <td>r</td>\n",
              "    </tr>\n",
              "    <tr>\n",
              "      <th>1</th>\n",
              "      <td>0.479899</td>\n",
              "      <td>0.856326</td>\n",
              "      <td>0.000001</td>\n",
              "      <td>0.377909</td>\n",
              "      <td>0.713071</td>\n",
              "      <td>-0.068753</td>\n",
              "      <td>0.366787</td>\n",
              "      <td>0.556996</td>\n",
              "      <td>-0.075835</td>\n",
              "      <td>0.478629</td>\n",
              "      <td>...</td>\n",
              "      <td>0.678905</td>\n",
              "      <td>0.433316</td>\n",
              "      <td>-0.044493</td>\n",
              "      <td>0.648640</td>\n",
              "      <td>0.481058</td>\n",
              "      <td>-0.057290</td>\n",
              "      <td>0.614141</td>\n",
              "      <td>0.539022</td>\n",
              "      <td>-0.047723</td>\n",
              "      <td>r</td>\n",
              "    </tr>\n",
              "    <tr>\n",
              "      <th>2</th>\n",
              "      <td>0.507039</td>\n",
              "      <td>0.882985</td>\n",
              "      <td>0.000001</td>\n",
              "      <td>0.389202</td>\n",
              "      <td>0.810820</td>\n",
              "      <td>-0.054068</td>\n",
              "      <td>0.328742</td>\n",
              "      <td>0.654581</td>\n",
              "      <td>-0.084417</td>\n",
              "      <td>0.401559</td>\n",
              "      <td>...</td>\n",
              "      <td>0.619318</td>\n",
              "      <td>0.520379</td>\n",
              "      <td>-0.186026</td>\n",
              "      <td>0.557501</td>\n",
              "      <td>0.614956</td>\n",
              "      <td>-0.170272</td>\n",
              "      <td>0.528143</td>\n",
              "      <td>0.693627</td>\n",
              "      <td>-0.136648</td>\n",
              "      <td>r</td>\n",
              "    </tr>\n",
              "    <tr>\n",
              "      <th>3</th>\n",
              "      <td>0.485468</td>\n",
              "      <td>0.945601</td>\n",
              "      <td>0.000001</td>\n",
              "      <td>0.354735</td>\n",
              "      <td>0.819937</td>\n",
              "      <td>-0.069007</td>\n",
              "      <td>0.329839</td>\n",
              "      <td>0.647306</td>\n",
              "      <td>-0.093267</td>\n",
              "      <td>0.444651</td>\n",
              "      <td>...</td>\n",
              "      <td>0.679945</td>\n",
              "      <td>0.508066</td>\n",
              "      <td>-0.146448</td>\n",
              "      <td>0.626687</td>\n",
              "      <td>0.584557</td>\n",
              "      <td>-0.144781</td>\n",
              "      <td>0.581722</td>\n",
              "      <td>0.660929</td>\n",
              "      <td>-0.120851</td>\n",
              "      <td>r</td>\n",
              "    </tr>\n",
              "    <tr>\n",
              "      <th>4</th>\n",
              "      <td>0.472641</td>\n",
              "      <td>0.945010</td>\n",
              "      <td>0.000001</td>\n",
              "      <td>0.351330</td>\n",
              "      <td>0.817465</td>\n",
              "      <td>-0.069957</td>\n",
              "      <td>0.334218</td>\n",
              "      <td>0.647094</td>\n",
              "      <td>-0.098873</td>\n",
              "      <td>0.451214</td>\n",
              "      <td>...</td>\n",
              "      <td>0.683455</td>\n",
              "      <td>0.515603</td>\n",
              "      <td>-0.141344</td>\n",
              "      <td>0.628587</td>\n",
              "      <td>0.589892</td>\n",
              "      <td>-0.129525</td>\n",
              "      <td>0.580399</td>\n",
              "      <td>0.661340</td>\n",
              "      <td>-0.099766</td>\n",
              "      <td>r</td>\n",
              "    </tr>\n",
              "  </tbody>\n",
              "</table>\n",
              "<p>5 rows × 64 columns</p>\n",
              "</div>\n",
              "      <button class=\"colab-df-convert\" onclick=\"convertToInteractive('df-ff0add59-d6a5-4c45-8d93-037761c8c1bc')\"\n",
              "              title=\"Convert this dataframe to an interactive table.\"\n",
              "              style=\"display:none;\">\n",
              "        \n",
              "  <svg xmlns=\"http://www.w3.org/2000/svg\" height=\"24px\"viewBox=\"0 0 24 24\"\n",
              "       width=\"24px\">\n",
              "    <path d=\"M0 0h24v24H0V0z\" fill=\"none\"/>\n",
              "    <path d=\"M18.56 5.44l.94 2.06.94-2.06 2.06-.94-2.06-.94-.94-2.06-.94 2.06-2.06.94zm-11 1L8.5 8.5l.94-2.06 2.06-.94-2.06-.94L8.5 2.5l-.94 2.06-2.06.94zm10 10l.94 2.06.94-2.06 2.06-.94-2.06-.94-.94-2.06-.94 2.06-2.06.94z\"/><path d=\"M17.41 7.96l-1.37-1.37c-.4-.4-.92-.59-1.43-.59-.52 0-1.04.2-1.43.59L10.3 9.45l-7.72 7.72c-.78.78-.78 2.05 0 2.83L4 21.41c.39.39.9.59 1.41.59.51 0 1.02-.2 1.41-.59l7.78-7.78 2.81-2.81c.8-.78.8-2.07 0-2.86zM5.41 20L4 18.59l7.72-7.72 1.47 1.35L5.41 20z\"/>\n",
              "  </svg>\n",
              "      </button>\n",
              "      \n",
              "  <style>\n",
              "    .colab-df-container {\n",
              "      display:flex;\n",
              "      flex-wrap:wrap;\n",
              "      gap: 12px;\n",
              "    }\n",
              "\n",
              "    .colab-df-convert {\n",
              "      background-color: #E8F0FE;\n",
              "      border: none;\n",
              "      border-radius: 50%;\n",
              "      cursor: pointer;\n",
              "      display: none;\n",
              "      fill: #1967D2;\n",
              "      height: 32px;\n",
              "      padding: 0 0 0 0;\n",
              "      width: 32px;\n",
              "    }\n",
              "\n",
              "    .colab-df-convert:hover {\n",
              "      background-color: #E2EBFA;\n",
              "      box-shadow: 0px 1px 2px rgba(60, 64, 67, 0.3), 0px 1px 3px 1px rgba(60, 64, 67, 0.15);\n",
              "      fill: #174EA6;\n",
              "    }\n",
              "\n",
              "    [theme=dark] .colab-df-convert {\n",
              "      background-color: #3B4455;\n",
              "      fill: #D2E3FC;\n",
              "    }\n",
              "\n",
              "    [theme=dark] .colab-df-convert:hover {\n",
              "      background-color: #434B5C;\n",
              "      box-shadow: 0px 1px 3px 1px rgba(0, 0, 0, 0.15);\n",
              "      filter: drop-shadow(0px 1px 2px rgba(0, 0, 0, 0.3));\n",
              "      fill: #FFFFFF;\n",
              "    }\n",
              "  </style>\n",
              "\n",
              "      <script>\n",
              "        const buttonEl =\n",
              "          document.querySelector('#df-ff0add59-d6a5-4c45-8d93-037761c8c1bc button.colab-df-convert');\n",
              "        buttonEl.style.display =\n",
              "          google.colab.kernel.accessAllowed ? 'block' : 'none';\n",
              "\n",
              "        async function convertToInteractive(key) {\n",
              "          const element = document.querySelector('#df-ff0add59-d6a5-4c45-8d93-037761c8c1bc');\n",
              "          const dataTable =\n",
              "            await google.colab.kernel.invokeFunction('convertToInteractive',\n",
              "                                                     [key], {});\n",
              "          if (!dataTable) return;\n",
              "\n",
              "          const docLinkHtml = 'Like what you see? Visit the ' +\n",
              "            '<a target=\"_blank\" href=https://colab.research.google.com/notebooks/data_table.ipynb>data table notebook</a>'\n",
              "            + ' to learn more about interactive tables.';\n",
              "          element.innerHTML = '';\n",
              "          dataTable['output_type'] = 'display_data';\n",
              "          await google.colab.output.renderOutput(dataTable, element);\n",
              "          const docLink = document.createElement('div');\n",
              "          docLink.innerHTML = docLinkHtml;\n",
              "          element.appendChild(docLink);\n",
              "        }\n",
              "      </script>\n",
              "    </div>\n",
              "  </div>\n",
              "  "
            ]
          },
          "metadata": {},
          "execution_count": 4
        }
      ],
      "source": [
        "#read the csv file and print the data\n",
        "df = pd.read_csv('drive/MyDrive/Colab_Assignments/NNFL/asl.csv')\n",
        "df.columns = [i for i in range(df.shape[1])]\n",
        "df.head()"
      ]
    },
    {
      "cell_type": "code",
      "execution_count": null,
      "metadata": {
        "colab": {
          "base_uri": "https://localhost:8080/",
          "height": 424
        },
        "outputId": "cdfb12fb-5ed1-4b7f-be40-c90b90c26f01",
        "scrolled": true,
        "id": "idIyFCr-r2NJ"
      },
      "outputs": [
        {
          "output_type": "execute_result",
          "data": {
            "text/plain": [
              "             0         1             2         3         4         5  \\\n",
              "0     0.000000  0.000000  0.000000e+00  0.000000  0.000000  0.000000   \n",
              "1     0.479899  0.856326  1.083642e-06  0.377909  0.713071 -0.068753   \n",
              "2     0.507039  0.882985  1.053143e-06  0.389202  0.810820 -0.054068   \n",
              "3     0.485468  0.945601  1.216589e-06  0.354735  0.819937 -0.069007   \n",
              "4     0.472641  0.945010  1.347091e-06  0.351330  0.817465 -0.069957   \n",
              "...        ...       ...           ...       ...       ...       ...   \n",
              "2509  0.000000  0.000000  0.000000e+00  0.000000  0.000000  0.000000   \n",
              "2510  0.000000  0.000000  0.000000e+00  0.000000  0.000000  0.000000   \n",
              "2511  0.530466  0.876038  6.903637e-07  0.415323  0.794240 -0.089822   \n",
              "2512  0.000000  0.000000  0.000000e+00  0.000000  0.000000  0.000000   \n",
              "2513  0.534105  0.873930  6.922080e-07  0.419719  0.791056 -0.092876   \n",
              "\n",
              "             6         7         8         9  ...        54        55  \\\n",
              "0     0.000000  0.000000  0.000000  0.000000  ...  0.000000  0.000000   \n",
              "1     0.366787  0.556996 -0.075835  0.478629  ...  0.678905  0.433316   \n",
              "2     0.328742  0.654581 -0.084417  0.401559  ...  0.619318  0.520379   \n",
              "3     0.329839  0.647306 -0.093267  0.444651  ...  0.679945  0.508066   \n",
              "4     0.334218  0.647094 -0.098873  0.451214  ...  0.683455  0.515603   \n",
              "...        ...       ...       ...       ...  ...       ...       ...   \n",
              "2509  0.000000  0.000000  0.000000  0.000000  ...  0.000000  0.000000   \n",
              "2510  0.000000  0.000000  0.000000  0.000000  ...  0.000000  0.000000   \n",
              "2511  0.400819  0.647805 -0.111582  0.530021  ...  0.712040  0.439743   \n",
              "2512  0.000000  0.000000  0.000000  0.000000  ...  0.000000  0.000000   \n",
              "2513  0.404134  0.649719 -0.116623  0.529606  ...  0.704736  0.431946   \n",
              "\n",
              "            56        57        58        59        60        61        62  \\\n",
              "0     0.000000  0.000000  0.000000  0.000000  0.000000  0.000000  0.000000   \n",
              "1    -0.044493  0.648640  0.481058 -0.057290  0.614141  0.539022 -0.047723   \n",
              "2    -0.186026  0.557501  0.614956 -0.170272  0.528143  0.693627 -0.136648   \n",
              "3    -0.146448  0.626687  0.584557 -0.144781  0.581722  0.660929 -0.120851   \n",
              "4    -0.141344  0.628587  0.589892 -0.129525  0.580399  0.661340 -0.099766   \n",
              "...        ...       ...       ...       ...       ...       ...       ...   \n",
              "2509  0.000000  0.000000  0.000000  0.000000  0.000000  0.000000  0.000000   \n",
              "2510  0.000000  0.000000  0.000000  0.000000  0.000000  0.000000  0.000000   \n",
              "2511 -0.085034  0.697607  0.444576 -0.112356  0.667555  0.470670 -0.128214   \n",
              "2512  0.000000  0.000000  0.000000  0.000000  0.000000  0.000000  0.000000   \n",
              "2513 -0.075876  0.688284  0.452892 -0.097903  0.663921  0.497716 -0.108266   \n",
              "\n",
              "      Output  \n",
              "0          r  \n",
              "1          r  \n",
              "2          r  \n",
              "3          r  \n",
              "4          r  \n",
              "...      ...  \n",
              "2509       w  \n",
              "2510       w  \n",
              "2511       w  \n",
              "2512       w  \n",
              "2513       w  \n",
              "\n",
              "[2514 rows x 64 columns]"
            ],
            "text/html": [
              "\n",
              "  <div id=\"df-4995a832-ddc0-4356-98ee-9b2ffa4787f2\">\n",
              "    <div class=\"colab-df-container\">\n",
              "      <div>\n",
              "<style scoped>\n",
              "    .dataframe tbody tr th:only-of-type {\n",
              "        vertical-align: middle;\n",
              "    }\n",
              "\n",
              "    .dataframe tbody tr th {\n",
              "        vertical-align: top;\n",
              "    }\n",
              "\n",
              "    .dataframe thead th {\n",
              "        text-align: right;\n",
              "    }\n",
              "</style>\n",
              "<table border=\"1\" class=\"dataframe\">\n",
              "  <thead>\n",
              "    <tr style=\"text-align: right;\">\n",
              "      <th></th>\n",
              "      <th>0</th>\n",
              "      <th>1</th>\n",
              "      <th>2</th>\n",
              "      <th>3</th>\n",
              "      <th>4</th>\n",
              "      <th>5</th>\n",
              "      <th>6</th>\n",
              "      <th>7</th>\n",
              "      <th>8</th>\n",
              "      <th>9</th>\n",
              "      <th>...</th>\n",
              "      <th>54</th>\n",
              "      <th>55</th>\n",
              "      <th>56</th>\n",
              "      <th>57</th>\n",
              "      <th>58</th>\n",
              "      <th>59</th>\n",
              "      <th>60</th>\n",
              "      <th>61</th>\n",
              "      <th>62</th>\n",
              "      <th>Output</th>\n",
              "    </tr>\n",
              "  </thead>\n",
              "  <tbody>\n",
              "    <tr>\n",
              "      <th>0</th>\n",
              "      <td>0.000000</td>\n",
              "      <td>0.000000</td>\n",
              "      <td>0.000000e+00</td>\n",
              "      <td>0.000000</td>\n",
              "      <td>0.000000</td>\n",
              "      <td>0.000000</td>\n",
              "      <td>0.000000</td>\n",
              "      <td>0.000000</td>\n",
              "      <td>0.000000</td>\n",
              "      <td>0.000000</td>\n",
              "      <td>...</td>\n",
              "      <td>0.000000</td>\n",
              "      <td>0.000000</td>\n",
              "      <td>0.000000</td>\n",
              "      <td>0.000000</td>\n",
              "      <td>0.000000</td>\n",
              "      <td>0.000000</td>\n",
              "      <td>0.000000</td>\n",
              "      <td>0.000000</td>\n",
              "      <td>0.000000</td>\n",
              "      <td>r</td>\n",
              "    </tr>\n",
              "    <tr>\n",
              "      <th>1</th>\n",
              "      <td>0.479899</td>\n",
              "      <td>0.856326</td>\n",
              "      <td>1.083642e-06</td>\n",
              "      <td>0.377909</td>\n",
              "      <td>0.713071</td>\n",
              "      <td>-0.068753</td>\n",
              "      <td>0.366787</td>\n",
              "      <td>0.556996</td>\n",
              "      <td>-0.075835</td>\n",
              "      <td>0.478629</td>\n",
              "      <td>...</td>\n",
              "      <td>0.678905</td>\n",
              "      <td>0.433316</td>\n",
              "      <td>-0.044493</td>\n",
              "      <td>0.648640</td>\n",
              "      <td>0.481058</td>\n",
              "      <td>-0.057290</td>\n",
              "      <td>0.614141</td>\n",
              "      <td>0.539022</td>\n",
              "      <td>-0.047723</td>\n",
              "      <td>r</td>\n",
              "    </tr>\n",
              "    <tr>\n",
              "      <th>2</th>\n",
              "      <td>0.507039</td>\n",
              "      <td>0.882985</td>\n",
              "      <td>1.053143e-06</td>\n",
              "      <td>0.389202</td>\n",
              "      <td>0.810820</td>\n",
              "      <td>-0.054068</td>\n",
              "      <td>0.328742</td>\n",
              "      <td>0.654581</td>\n",
              "      <td>-0.084417</td>\n",
              "      <td>0.401559</td>\n",
              "      <td>...</td>\n",
              "      <td>0.619318</td>\n",
              "      <td>0.520379</td>\n",
              "      <td>-0.186026</td>\n",
              "      <td>0.557501</td>\n",
              "      <td>0.614956</td>\n",
              "      <td>-0.170272</td>\n",
              "      <td>0.528143</td>\n",
              "      <td>0.693627</td>\n",
              "      <td>-0.136648</td>\n",
              "      <td>r</td>\n",
              "    </tr>\n",
              "    <tr>\n",
              "      <th>3</th>\n",
              "      <td>0.485468</td>\n",
              "      <td>0.945601</td>\n",
              "      <td>1.216589e-06</td>\n",
              "      <td>0.354735</td>\n",
              "      <td>0.819937</td>\n",
              "      <td>-0.069007</td>\n",
              "      <td>0.329839</td>\n",
              "      <td>0.647306</td>\n",
              "      <td>-0.093267</td>\n",
              "      <td>0.444651</td>\n",
              "      <td>...</td>\n",
              "      <td>0.679945</td>\n",
              "      <td>0.508066</td>\n",
              "      <td>-0.146448</td>\n",
              "      <td>0.626687</td>\n",
              "      <td>0.584557</td>\n",
              "      <td>-0.144781</td>\n",
              "      <td>0.581722</td>\n",
              "      <td>0.660929</td>\n",
              "      <td>-0.120851</td>\n",
              "      <td>r</td>\n",
              "    </tr>\n",
              "    <tr>\n",
              "      <th>4</th>\n",
              "      <td>0.472641</td>\n",
              "      <td>0.945010</td>\n",
              "      <td>1.347091e-06</td>\n",
              "      <td>0.351330</td>\n",
              "      <td>0.817465</td>\n",
              "      <td>-0.069957</td>\n",
              "      <td>0.334218</td>\n",
              "      <td>0.647094</td>\n",
              "      <td>-0.098873</td>\n",
              "      <td>0.451214</td>\n",
              "      <td>...</td>\n",
              "      <td>0.683455</td>\n",
              "      <td>0.515603</td>\n",
              "      <td>-0.141344</td>\n",
              "      <td>0.628587</td>\n",
              "      <td>0.589892</td>\n",
              "      <td>-0.129525</td>\n",
              "      <td>0.580399</td>\n",
              "      <td>0.661340</td>\n",
              "      <td>-0.099766</td>\n",
              "      <td>r</td>\n",
              "    </tr>\n",
              "    <tr>\n",
              "      <th>...</th>\n",
              "      <td>...</td>\n",
              "      <td>...</td>\n",
              "      <td>...</td>\n",
              "      <td>...</td>\n",
              "      <td>...</td>\n",
              "      <td>...</td>\n",
              "      <td>...</td>\n",
              "      <td>...</td>\n",
              "      <td>...</td>\n",
              "      <td>...</td>\n",
              "      <td>...</td>\n",
              "      <td>...</td>\n",
              "      <td>...</td>\n",
              "      <td>...</td>\n",
              "      <td>...</td>\n",
              "      <td>...</td>\n",
              "      <td>...</td>\n",
              "      <td>...</td>\n",
              "      <td>...</td>\n",
              "      <td>...</td>\n",
              "      <td>...</td>\n",
              "    </tr>\n",
              "    <tr>\n",
              "      <th>2509</th>\n",
              "      <td>0.000000</td>\n",
              "      <td>0.000000</td>\n",
              "      <td>0.000000e+00</td>\n",
              "      <td>0.000000</td>\n",
              "      <td>0.000000</td>\n",
              "      <td>0.000000</td>\n",
              "      <td>0.000000</td>\n",
              "      <td>0.000000</td>\n",
              "      <td>0.000000</td>\n",
              "      <td>0.000000</td>\n",
              "      <td>...</td>\n",
              "      <td>0.000000</td>\n",
              "      <td>0.000000</td>\n",
              "      <td>0.000000</td>\n",
              "      <td>0.000000</td>\n",
              "      <td>0.000000</td>\n",
              "      <td>0.000000</td>\n",
              "      <td>0.000000</td>\n",
              "      <td>0.000000</td>\n",
              "      <td>0.000000</td>\n",
              "      <td>w</td>\n",
              "    </tr>\n",
              "    <tr>\n",
              "      <th>2510</th>\n",
              "      <td>0.000000</td>\n",
              "      <td>0.000000</td>\n",
              "      <td>0.000000e+00</td>\n",
              "      <td>0.000000</td>\n",
              "      <td>0.000000</td>\n",
              "      <td>0.000000</td>\n",
              "      <td>0.000000</td>\n",
              "      <td>0.000000</td>\n",
              "      <td>0.000000</td>\n",
              "      <td>0.000000</td>\n",
              "      <td>...</td>\n",
              "      <td>0.000000</td>\n",
              "      <td>0.000000</td>\n",
              "      <td>0.000000</td>\n",
              "      <td>0.000000</td>\n",
              "      <td>0.000000</td>\n",
              "      <td>0.000000</td>\n",
              "      <td>0.000000</td>\n",
              "      <td>0.000000</td>\n",
              "      <td>0.000000</td>\n",
              "      <td>w</td>\n",
              "    </tr>\n",
              "    <tr>\n",
              "      <th>2511</th>\n",
              "      <td>0.530466</td>\n",
              "      <td>0.876038</td>\n",
              "      <td>6.903637e-07</td>\n",
              "      <td>0.415323</td>\n",
              "      <td>0.794240</td>\n",
              "      <td>-0.089822</td>\n",
              "      <td>0.400819</td>\n",
              "      <td>0.647805</td>\n",
              "      <td>-0.111582</td>\n",
              "      <td>0.530021</td>\n",
              "      <td>...</td>\n",
              "      <td>0.712040</td>\n",
              "      <td>0.439743</td>\n",
              "      <td>-0.085034</td>\n",
              "      <td>0.697607</td>\n",
              "      <td>0.444576</td>\n",
              "      <td>-0.112356</td>\n",
              "      <td>0.667555</td>\n",
              "      <td>0.470670</td>\n",
              "      <td>-0.128214</td>\n",
              "      <td>w</td>\n",
              "    </tr>\n",
              "    <tr>\n",
              "      <th>2512</th>\n",
              "      <td>0.000000</td>\n",
              "      <td>0.000000</td>\n",
              "      <td>0.000000e+00</td>\n",
              "      <td>0.000000</td>\n",
              "      <td>0.000000</td>\n",
              "      <td>0.000000</td>\n",
              "      <td>0.000000</td>\n",
              "      <td>0.000000</td>\n",
              "      <td>0.000000</td>\n",
              "      <td>0.000000</td>\n",
              "      <td>...</td>\n",
              "      <td>0.000000</td>\n",
              "      <td>0.000000</td>\n",
              "      <td>0.000000</td>\n",
              "      <td>0.000000</td>\n",
              "      <td>0.000000</td>\n",
              "      <td>0.000000</td>\n",
              "      <td>0.000000</td>\n",
              "      <td>0.000000</td>\n",
              "      <td>0.000000</td>\n",
              "      <td>w</td>\n",
              "    </tr>\n",
              "    <tr>\n",
              "      <th>2513</th>\n",
              "      <td>0.534105</td>\n",
              "      <td>0.873930</td>\n",
              "      <td>6.922080e-07</td>\n",
              "      <td>0.419719</td>\n",
              "      <td>0.791056</td>\n",
              "      <td>-0.092876</td>\n",
              "      <td>0.404134</td>\n",
              "      <td>0.649719</td>\n",
              "      <td>-0.116623</td>\n",
              "      <td>0.529606</td>\n",
              "      <td>...</td>\n",
              "      <td>0.704736</td>\n",
              "      <td>0.431946</td>\n",
              "      <td>-0.075876</td>\n",
              "      <td>0.688284</td>\n",
              "      <td>0.452892</td>\n",
              "      <td>-0.097903</td>\n",
              "      <td>0.663921</td>\n",
              "      <td>0.497716</td>\n",
              "      <td>-0.108266</td>\n",
              "      <td>w</td>\n",
              "    </tr>\n",
              "  </tbody>\n",
              "</table>\n",
              "<p>2514 rows × 64 columns</p>\n",
              "</div>\n",
              "      <button class=\"colab-df-convert\" onclick=\"convertToInteractive('df-4995a832-ddc0-4356-98ee-9b2ffa4787f2')\"\n",
              "              title=\"Convert this dataframe to an interactive table.\"\n",
              "              style=\"display:none;\">\n",
              "        \n",
              "  <svg xmlns=\"http://www.w3.org/2000/svg\" height=\"24px\"viewBox=\"0 0 24 24\"\n",
              "       width=\"24px\">\n",
              "    <path d=\"M0 0h24v24H0V0z\" fill=\"none\"/>\n",
              "    <path d=\"M18.56 5.44l.94 2.06.94-2.06 2.06-.94-2.06-.94-.94-2.06-.94 2.06-2.06.94zm-11 1L8.5 8.5l.94-2.06 2.06-.94-2.06-.94L8.5 2.5l-.94 2.06-2.06.94zm10 10l.94 2.06.94-2.06 2.06-.94-2.06-.94-.94-2.06-.94 2.06-2.06.94z\"/><path d=\"M17.41 7.96l-1.37-1.37c-.4-.4-.92-.59-1.43-.59-.52 0-1.04.2-1.43.59L10.3 9.45l-7.72 7.72c-.78.78-.78 2.05 0 2.83L4 21.41c.39.39.9.59 1.41.59.51 0 1.02-.2 1.41-.59l7.78-7.78 2.81-2.81c.8-.78.8-2.07 0-2.86zM5.41 20L4 18.59l7.72-7.72 1.47 1.35L5.41 20z\"/>\n",
              "  </svg>\n",
              "      </button>\n",
              "      \n",
              "  <style>\n",
              "    .colab-df-container {\n",
              "      display:flex;\n",
              "      flex-wrap:wrap;\n",
              "      gap: 12px;\n",
              "    }\n",
              "\n",
              "    .colab-df-convert {\n",
              "      background-color: #E8F0FE;\n",
              "      border: none;\n",
              "      border-radius: 50%;\n",
              "      cursor: pointer;\n",
              "      display: none;\n",
              "      fill: #1967D2;\n",
              "      height: 32px;\n",
              "      padding: 0 0 0 0;\n",
              "      width: 32px;\n",
              "    }\n",
              "\n",
              "    .colab-df-convert:hover {\n",
              "      background-color: #E2EBFA;\n",
              "      box-shadow: 0px 1px 2px rgba(60, 64, 67, 0.3), 0px 1px 3px 1px rgba(60, 64, 67, 0.15);\n",
              "      fill: #174EA6;\n",
              "    }\n",
              "\n",
              "    [theme=dark] .colab-df-convert {\n",
              "      background-color: #3B4455;\n",
              "      fill: #D2E3FC;\n",
              "    }\n",
              "\n",
              "    [theme=dark] .colab-df-convert:hover {\n",
              "      background-color: #434B5C;\n",
              "      box-shadow: 0px 1px 3px 1px rgba(0, 0, 0, 0.15);\n",
              "      filter: drop-shadow(0px 1px 2px rgba(0, 0, 0, 0.3));\n",
              "      fill: #FFFFFF;\n",
              "    }\n",
              "  </style>\n",
              "\n",
              "      <script>\n",
              "        const buttonEl =\n",
              "          document.querySelector('#df-4995a832-ddc0-4356-98ee-9b2ffa4787f2 button.colab-df-convert');\n",
              "        buttonEl.style.display =\n",
              "          google.colab.kernel.accessAllowed ? 'block' : 'none';\n",
              "\n",
              "        async function convertToInteractive(key) {\n",
              "          const element = document.querySelector('#df-4995a832-ddc0-4356-98ee-9b2ffa4787f2');\n",
              "          const dataTable =\n",
              "            await google.colab.kernel.invokeFunction('convertToInteractive',\n",
              "                                                     [key], {});\n",
              "          if (!dataTable) return;\n",
              "\n",
              "          const docLinkHtml = 'Like what you see? Visit the ' +\n",
              "            '<a target=\"_blank\" href=https://colab.research.google.com/notebooks/data_table.ipynb>data table notebook</a>'\n",
              "            + ' to learn more about interactive tables.';\n",
              "          element.innerHTML = '';\n",
              "          dataTable['output_type'] = 'display_data';\n",
              "          await google.colab.output.renderOutput(dataTable, element);\n",
              "          const docLink = document.createElement('div');\n",
              "          docLink.innerHTML = docLinkHtml;\n",
              "          element.appendChild(docLink);\n",
              "        }\n",
              "      </script>\n",
              "    </div>\n",
              "  </div>\n",
              "  "
            ]
          },
          "metadata": {},
          "execution_count": 5
        }
      ],
      "source": [
        "df = df.rename(columns={63: 'Output'})\n",
        "df\n"
      ]
    },
    {
      "cell_type": "code",
      "execution_count": null,
      "metadata": {
        "colab": {
          "base_uri": "https://localhost:8080/"
        },
        "outputId": "c7341e64-d769-446b-e1dc-cba600b963d4",
        "id": "SZR5pZ7Sr2NJ"
      },
      "outputs": [
        {
          "output_type": "stream",
          "name": "stdout",
          "text": [
            "Features shape = (2514, 63)\n",
            "Labels shape = (2514,)\n"
          ]
        }
      ],
      "source": [
        "#defining X & Y\n",
        "X = df.iloc[:, :-1]\n",
        "print(\"Features shape =\", X.shape)\n",
        "\n",
        "Y = df.iloc[:, -1]\n",
        "print(\"Labels shape =\", Y.shape)"
      ]
    },
    {
      "cell_type": "markdown",
      "source": [
        "SVM Classifier"
      ],
      "metadata": {
        "id": "DZiah5Snr2NK"
      }
    },
    {
      "cell_type": "code",
      "execution_count": null,
      "metadata": {
        "colab": {
          "base_uri": "https://localhost:8080/"
        },
        "outputId": "22170621-81c3-412b-fb10-8c99b737ac99",
        "id": "jo42_Nczr2NK"
      },
      "outputs": [
        {
          "output_type": "execute_result",
          "data": {
            "text/plain": [
              "SVC(C=10, gamma=0.1)"
            ]
          },
          "metadata": {},
          "execution_count": 16
        }
      ],
      "source": [
        "#splitting X & Y as train and test with 70% training and 30% testing\n",
        "x1_train, x1_test, y1_train, y1_test = train_test_split(X, Y, test_size=0.5, random_state=0)\n",
        "svm = SVC(C=10, gamma=0.1, kernel='rbf')\n",
        "svm.fit(x1_train, y1_train)"
      ]
    },
    {
      "cell_type": "code",
      "execution_count": null,
      "metadata": {
        "colab": {
          "base_uri": "https://localhost:8080/"
        },
        "outputId": "498c611f-269e-4a6e-8a01-225833baf635",
        "id": "8Y3KxHx2r2NK"
      },
      "outputs": [
        {
          "output_type": "execute_result",
          "data": {
            "text/plain": [
              "array(['m', '6', '6', ..., 'm', '8', 'm'], dtype=object)"
            ]
          },
          "metadata": {},
          "execution_count": 17
        }
      ],
      "source": [
        "#Predicting using classifiers\n",
        "y1_pred = svm.predict(x1_test)\n",
        "y1_pred\n"
      ]
    },
    {
      "cell_type": "code",
      "execution_count": null,
      "metadata": {
        "colab": {
          "base_uri": "https://localhost:8080/",
          "height": 353
        },
        "outputId": "b0578dad-3a3f-4394-f24c-47af8f3469ea",
        "id": "_VNDfOUNr2NL"
      },
      "outputs": [
        {
          "output_type": "stream",
          "name": "stderr",
          "text": [
            "/usr/local/lib/python3.7/dist-packages/seaborn/_decorators.py:43: FutureWarning: Pass the following variable as a keyword arg: x. From version 0.12, the only valid positional argument will be `data`, and passing other arguments without an explicit keyword will result in an error or misinterpretation.\n",
            "  FutureWarning\n"
          ]
        },
        {
          "output_type": "execute_result",
          "data": {
            "text/plain": [
              "<matplotlib.axes._subplots.AxesSubplot at 0x7f1738daf950>"
            ]
          },
          "metadata": {},
          "execution_count": 18
        },
        {
          "output_type": "display_data",
          "data": {
            "text/plain": [
              "<Figure size 432x288 with 1 Axes>"
            ],
            "image/png": "[encoded data removed]"
          },
          "metadata": {
            "needs_background": "light"
          }
        }
      ],
      "source": [
        "plt.title('SVM Classifier Results')\n",
        "sns.countplot(y1_pred)"
      ]
    },
    {
      "cell_type": "code",
      "execution_count": null,
      "metadata": {
        "colab": {
          "base_uri": "https://localhost:8080/"
        },
        "outputId": "39ccd165-2762-4501-ceaa-e54a8dfca4cb",
        "id": "NWdFBS-Er2NL"
      },
      "outputs": [
        {
          "output_type": "execute_result",
          "data": {
            "text/plain": [
              "(0.5155131264916468,\n",
              " 0.5155131264916468,\n",
              " 0.5155131264916468,\n",
              " 0.5155131264916468)"
            ]
          },
          "metadata": {},
          "execution_count": 19
        }
      ],
      "source": [
        "cf1_matrix = confusion_matrix(y1_test, y1_pred)\n",
        "f1 = f1_score(y1_test, y1_pred, average='micro')\n",
        "recall = recall_score(y1_test, y1_pred, average='micro')\n",
        "precision = precision_score(y1_test, y1_pred, average='micro')\n",
        "accuracy = accuracy_score(y1_test, y1_pred)\n",
        "f1, recall, precision, accuracy"
      ]
    },
    {
      "cell_type": "code",
      "source": [
        "data = {'f1': f1 ,'precision': precision , 'accuracy': accuracy , 'recall': recall}\n",
        "param = list(data.keys())\n",
        "pred = list(data.values())\n",
        "fig = plt.figure(figsize = (10, 5))\n",
        "plt.bar(param,pred,color = 'maroon',width = 0.4)\n",
        "plt.title('SVM Classifier Results')\n",
        "plt.show()"
      ],
      "metadata": {
        "colab": {
          "base_uri": "https://localhost:8080/",
          "height": 336
        },
        "outputId": "c11d6196-00c2-4f5b-ce5a-605902e109b5",
        "id": "QW1YG82xr2NO"
      },
      "execution_count": null,
      "outputs": [
        {
          "output_type": "display_data",
          "data": {
            "text/plain": [
              "<Figure size 720x360 with 1 Axes>"
            ],
            "image/png": "[encoded data removed]"
          },
          "metadata": {
            "needs_background": "light"
          }
        }
      ]
    },
    {
      "cell_type": "markdown",
      "source": [
        "Logistic Regression "
      ],
      "metadata": {
        "id": "Eua9AACZr2NO"
      }
    },
    {
      "cell_type": "code",
      "execution_count": null,
      "metadata": {
        "colab": {
          "base_uri": "https://localhost:8080/"
        },
        "outputId": "0a42bc7c-5c78-49ad-8518-6a1f1e39dbd7",
        "id": "M1FmCtqkr2NP"
      },
      "outputs": [
        {
          "output_type": "stream",
          "name": "stderr",
          "text": [
            "/usr/local/lib/python3.7/dist-packages/sklearn/linear_model/_logistic.py:818: ConvergenceWarning: lbfgs failed to converge (status=1):\n",
            "STOP: TOTAL NO. of ITERATIONS REACHED LIMIT.\n",
            "\n",
            "Increase the number of iterations (max_iter) or scale the data as shown in:\n",
            "    https://scikit-learn.org/stable/modules/preprocessing.html\n",
            "Please also refer to the documentation for alternative solver options:\n",
            "    https://scikit-learn.org/stable/modules/linear_model.html#logistic-regression\n",
            "  extra_warning_msg=_LOGISTIC_SOLVER_CONVERGENCE_MSG,\n"
          ]
        },
        {
          "output_type": "execute_result",
          "data": {
            "text/plain": [
              "LogisticRegression()"
            ]
          },
          "metadata": {},
          "execution_count": 11
        }
      ],
      "source": [
        "x2_train, x2_test, y2_train, y2_test = train_test_split(X, Y, test_size=0.3, random_state=0)\n",
        "reg = LogisticRegression()\n",
        "reg.fit(x2_train, y2_train)"
      ]
    },
    {
      "cell_type": "code",
      "execution_count": null,
      "metadata": {
        "colab": {
          "base_uri": "https://localhost:8080/"
        },
        "outputId": "c81a51f9-1e6d-4d80-9e4a-2e2e9863e974",
        "id": "SkHsMV9Dr2NP"
      },
      "outputs": [
        {
          "output_type": "execute_result",
          "data": {
            "text/plain": [
              "array(['m', '6', '6', 'p', 'm', 'm', 'i', 'd', '3', 'b', 'l', 'z', 'm',\n",
              "       'u', 'm', 'l', 'm', 'm', 'm', 'm', '5', 'm', 'p', 'f', 'm', 'b',\n",
              "       'm', '5', 'm', 'k', 'm', '0', 'm', '3', 'm', 'm', '5', 'm', '7',\n",
              "       '7', 'u', 'm', 'm', '5', 'x', 'q', 'm', 'k', 'b', '6', 'm', 'm',\n",
              "       'b', 'm', 'l', 'g', 'm', '8', '9', 'x', '1', 'r', 'm', '3', '1',\n",
              "       'm', 'z', 'm', 'm', 'l', 'm', 'l', 'i', 'd', '4', 'm', 'm', 'f',\n",
              "       'm', 'm', '3', '5', 'l', 'm', 'x', 'm', 'm', '5', 'b', 'v', 'm',\n",
              "       'v', '4', 'z', 'd', '8', 'l', '8', 'z', 'm', '7', '7', 'm', '4',\n",
              "       'm', 'z', 'u', 'm', '4', 'm', 'm', 'm', 'm', 'm', 'j', '6', '2',\n",
              "       '4', 'x', 'm', 'l', 'm', 'g', 'p', '3', 'm', 'k', '3', '1', 'u',\n",
              "       'm', '6', '9', 'm', 'm', 'x', '6', '2', 'm', 'd', 'm', 'm', '8',\n",
              "       '5', 'm', 'k', 'i', 'm', 'm', 'c', '9', 'm', '6', 'm', 'm', '9',\n",
              "       'm', 'm', 'm', 'i', 'm', 'm', 'b', 'x', 'm', '5', 'm', 'm', 'f',\n",
              "       '8', '5', 'm', 'f', 'g', 'm', 'i', '0', 'm', 'd', 'd', 'v', 'd',\n",
              "       'm', '2', 'v', 'm', 'm', 'm', 'm', 'm', 'r', '6', 'm', '0', '1',\n",
              "       'm', 'm', 'm', 'm', 'm', 'm', '4', 'u', 'm', 'm', 'm', 'l', '7',\n",
              "       'm', '9', '7', 'h', 'b', 'm', 'm', 'm', '8', 'm', 'm', 'm', '5',\n",
              "       '8', 'm', 'd', '6', 'm', '1', 'm', '4', 'm', 'f', 'l', 'm', 'u',\n",
              "       'u', 'm', 'm', 'm', 'm', 'b', 'm', 'u', 'm', 'i', 'r', 'm', '5',\n",
              "       'm', 'u', 'l', 'm', 'y', 'm', 'z', 'm', 'm', 'm', '7', 'd', 'm',\n",
              "       'm', 'm', '5', 'f', '4', 'p', 'd', 'd', 'p', '3', 'm', 'm', 'm',\n",
              "       'l', 'i', 'm', 'p', '6', '6', 'p', 'u', '7', 'm', 'm', 'x', 'x',\n",
              "       'm', 'u', '4', 'm', 'm', 'm', 'u', '3', 'p', 'm', 'm', '9', 'r',\n",
              "       'm', 'q', '6', 'h', '2', 'm', 'm', 'm', 'm', 'm', 'x', 'm', 'k',\n",
              "       'm', '4', 'm', 'k', '6', 'm', 'm', '3', 'm', '5', 'm', 'p', 'm',\n",
              "       'u', 'm', 'm', '1', 'm', 'm', 'u', 'm', 'y', '4', 'm', 'l', 'm',\n",
              "       'd', 'm', 'p', 'm', '6', 'f', 'f', 'm', 'm', 'm', 'k', 'm', 'm',\n",
              "       'u', 'y', 'm', 'm', 'm', 'h', '6', 'p', 'm', '6', '3', 'f', 'x',\n",
              "       '2', 'm', 'm', 'z', '9', 'm', 'm', '2', '6', '3', 'm', 'm', 'm',\n",
              "       '5', '1', '6', 'i', 'm', '8', 'm', 'm', 'm', 'u', 'm', 'm', 'f',\n",
              "       'm', '9', 'm', 'm', 'm', '4', '6', 'm', 'u', 'm', 'm', 'm', 'm',\n",
              "       'm', 'm', 'm', 'm', 'd', 'p', 'm', 'm', 'm', 'm', 'm', '0', '1',\n",
              "       'm', 'm', 'm', '6', 'g', 'f', '2', 'r', 'm', '3', '9', 'b', '1',\n",
              "       'm', 'm', 'm', 'm', 'f', 'm', 'm', 'm', 'c', 'm', 'm', 'm', '1',\n",
              "       'i', '9', 'm', 'm', 'm', 'm', '1', 'y', 'm', '9', 'u', 'h', 'g',\n",
              "       'f', 'm', 'u', 'i', 'm', 'm', 'l', 'm', 'm', 'm', 'l', 'm', '1',\n",
              "       'u', '7', 'm', 'm', 'm', 'h', 'z', 'm', 'm', 'f', 'f', 'l', 'd',\n",
              "       '5', 'm', 'm', 'm', 'k', 'k', 'm', 'l', 'u', 'm', 'z', 'm', '3',\n",
              "       'm', '8', 'g', '9', '9', '1', 'm', '7', 'm', '1', 'm', 'h', 'y',\n",
              "       'v', 'l', 'b', 'm', 'm', 'u', 'm', 'm', 'm', 'z', 'k', '3', 'p',\n",
              "       'm', '1', '3', '5', 'p', '7', '3', 'u', 'm', '3', 'm', '9', 'u',\n",
              "       'm', 'f', '2', 'm', '6', 'm', 'm', '5', '5', 'm', '5', 'r', 'b',\n",
              "       'g', 'z', 'm', 'l', '5', '4', '5', '6', '4', 'b', 'z', 'm', 'u',\n",
              "       'm', 'm', 'l', '7', 'm', 'm', 'm', '9', 'm', '0', 'm', 'y', '1',\n",
              "       '5', 'r', 'f', '9', 'm', 'm', 'm', 'h', '6', 'f', 'u', 'm', 'm',\n",
              "       '9', 'm', 'm', '8', 'g', 'm', 'f', '4', 'm', 'm', 'h', 'k', 'm',\n",
              "       '3', 'm', 'b', '7', '3', 'u', 'm', 'm', 'm', 'm', 'x', '8', 'm',\n",
              "       'm', 'm', 'm', 'b', 'f', '4', 'j', '7', 'k', 'm', '8', 'm', 'f',\n",
              "       'p', 'l', 'm', 'm', 'm', 'k', 'm', 'm', '8', 'h', 'm', 'm', '1',\n",
              "       'm', 'u', 'k', 'm', 'm', 'm', 'm', '6', 'm', '5', 'm', '9', 'm',\n",
              "       'm', 'd', '4', 'm', '9', '6', 'f', 'm', '1', '8', 'f', '6', 'k',\n",
              "       '4', 'f', 'm', 'm', 'm', '1', 'm', 'm', 'z', 'l', 'm', 'm', 'm',\n",
              "       'm', 'u', 'm', '4', 'g', '5', 'm', '3', '1', 'x', 'x', 'u', 'k',\n",
              "       '0', 'u', 'm', 'p', 'x', 'g', 'm', '7', 'm', '8', '0', 'm', 'm',\n",
              "       'm', 'm', 'm', '5', 'g', 'm', 'm', 'm', 'm', 'g', 'm', '7', 'm',\n",
              "       'z', 'k', 'm', 'm', 'p', 'x', 'm', 'm', 'm', '5', 'm', 'm', 'm',\n",
              "       'x', 'f', '5', '6', '5', 'm', 'm', 'm', 'i', '7', 'm', '3', 'k',\n",
              "       'm', 'm', 'm', 'u', '5', 'm', 'd', '9', 'm', 'm', 'm', 'm', 'm',\n",
              "       'g'], dtype=object)"
            ]
          },
          "metadata": {},
          "execution_count": 12
        }
      ],
      "source": [
        "y2_pred = reg.predict(x2_test)\n",
        "y2_pred"
      ]
    },
    {
      "cell_type": "code",
      "execution_count": null,
      "metadata": {
        "colab": {
          "base_uri": "https://localhost:8080/",
          "height": 353
        },
        "outputId": "ca1ac66e-8017-4c4b-950c-690eaee5f886",
        "id": "Au8fjoE9r2NP"
      },
      "outputs": [
        {
          "output_type": "stream",
          "name": "stderr",
          "text": [
            "/usr/local/lib/python3.7/dist-packages/seaborn/_decorators.py:43: FutureWarning: Pass the following variable as a keyword arg: x. From version 0.12, the only valid positional argument will be `data`, and passing other arguments without an explicit keyword will result in an error or misinterpretation.\n",
            "  FutureWarning\n"
          ]
        },
        {
          "output_type": "execute_result",
          "data": {
            "text/plain": [
              "<matplotlib.axes._subplots.AxesSubplot at 0x7f98b3768290>"
            ]
          },
          "metadata": {},
          "execution_count": 13
        },
        {
          "output_type": "display_data",
          "data": {
            "text/plain": [
              "<Figure size 432x288 with 1 Axes>"
            ],
            "image/png": "[encoded data removed]"
          },
          "metadata": {
            "needs_background": "light"
          }
        }
      ],
      "source": [
        "plt.title('Logistic Regression Classifier Results')\n",
        "sns.countplot(y2_pred)"
      ]
    },
    {
      "cell_type": "code",
      "execution_count": null,
      "metadata": {
        "colab": {
          "base_uri": "https://localhost:8080/"
        },
        "outputId": "5031e2dd-f95c-4a4f-9f83-4a8d609392bc",
        "id": "rTy0fQk-r2NQ"
      },
      "outputs": [
        {
          "output_type": "execute_result",
          "data": {
            "text/plain": [
              "(0.4688741721854305,\n",
              " 0.4688741721854305,\n",
              " 0.4688741721854305,\n",
              " 0.4688741721854305)"
            ]
          },
          "metadata": {},
          "execution_count": 14
        }
      ],
      "source": [
        "cf2_matrix = confusion_matrix(y2_test, y2_pred)\n",
        "f1 = f1_score(y2_test, y2_pred, average='micro')\n",
        "recall = recall_score(y2_test, y2_pred, average='micro')\n",
        "precision = precision_score(y2_test, y2_pred, average='micro')\n",
        "accuracy = accuracy_score(y2_test, y2_pred)\n",
        "f1, recall, precision, accuracy"
      ]
    },
    {
      "cell_type": "code",
      "source": [
        "data = {'f1': f1 ,'precision': precision , 'accuracy': accuracy , 'recall': recall}\n",
        "param = list(data.keys())\n",
        "pred = list(data.values())\n",
        "fig = plt.figure(figsize = (10, 5))\n",
        "plt.bar(param,pred,color = 'maroon',width = 0.4)\n",
        "plt.title('Logistic Regression Classifier Results')\n",
        "plt.show()"
      ],
      "metadata": {
        "colab": {
          "base_uri": "https://localhost:8080/",
          "height": 336
        },
        "outputId": "73af72e0-2e65-41f0-9934-c3bd6a90a5d3",
        "id": "4uRwSAAYr2NQ"
      },
      "execution_count": null,
      "outputs": [
        {
          "output_type": "display_data",
          "data": {
            "text/plain": [
              "<Figure size 720x360 with 1 Axes>"
            ],
            "image/png": "[encoded data removed]"
          },
          "metadata": {
            "needs_background": "light"
          }
        }
      ]
    },
    {
      "cell_type": "markdown",
      "source": [
        "Random Forest Classifier"
      ],
      "metadata": {
        "id": "TEjApeTar2NQ"
      }
    },
    {
      "cell_type": "code",
      "execution_count": null,
      "metadata": {
        "colab": {
          "base_uri": "https://localhost:8080/"
        },
        "outputId": "027d39de-6b53-4dd3-f337-3c6fd0a506b9",
        "id": "pCNzk8RNr2NQ"
      },
      "outputs": [
        {
          "output_type": "execute_result",
          "data": {
            "text/plain": [
              "RandomForestClassifier()"
            ]
          },
          "metadata": {},
          "execution_count": 12
        }
      ],
      "source": [
        "x4_train, x4_test, y4_train, y4_test = train_test_split(X, Y, test_size=0.5, random_state=0)\n",
        "rfc = RandomForestClassifier()\n",
        "rfc.fit(x4_train, y4_train)"
      ]
    },
    {
      "cell_type": "code",
      "execution_count": null,
      "metadata": {
        "colab": {
          "base_uri": "https://localhost:8080/"
        },
        "outputId": "edd79670-962d-49c6-be82-5f1e72b9dcd1",
        "id": "cGRxrJBRr2NQ"
      },
      "outputs": [
        {
          "output_type": "execute_result",
          "data": {
            "text/plain": [
              "array(['m', '6', 'w', ..., 'm', '8', 'm'], dtype=object)"
            ]
          },
          "metadata": {},
          "execution_count": 13
        }
      ],
      "source": [
        "y4_pred = rfc.predict(x4_test)\n",
        "y4_pred\n"
      ]
    },
    {
      "cell_type": "code",
      "execution_count": null,
      "metadata": {
        "colab": {
          "base_uri": "https://localhost:8080/",
          "height": 353
        },
        "outputId": "70ffc293-99b2-4b6d-8a60-089810a1d30d",
        "id": "NJMBKk1xr2NR"
      },
      "outputs": [
        {
          "output_type": "stream",
          "name": "stderr",
          "text": [
            "/usr/local/lib/python3.7/dist-packages/seaborn/_decorators.py:43: FutureWarning: Pass the following variable as a keyword arg: x. From version 0.12, the only valid positional argument will be `data`, and passing other arguments without an explicit keyword will result in an error or misinterpretation.\n",
            "  FutureWarning\n"
          ]
        },
        {
          "output_type": "execute_result",
          "data": {
            "text/plain": [
              "<matplotlib.axes._subplots.AxesSubplot at 0x7f1738d8cb10>"
            ]
          },
          "metadata": {},
          "execution_count": 14
        },
        {
          "output_type": "display_data",
          "data": {
            "text/plain": [
              "<Figure size 432x288 with 1 Axes>"
            ],
            "image/png": "[encoded data removed]"
          },
          "metadata": {
            "needs_background": "light"
          }
        }
      ],
      "source": [
        "plt.title('Random Forest Classifier Results')\n",
        "sns.countplot(y4_pred)"
      ]
    },
    {
      "cell_type": "code",
      "execution_count": null,
      "metadata": {
        "colab": {
          "base_uri": "https://localhost:8080/"
        },
        "outputId": "cab792c9-bfeb-425a-beaa-7f7fa91087ff",
        "id": "GSMGQcAnr2NR"
      },
      "outputs": [
        {
          "output_type": "execute_result",
          "data": {
            "text/plain": [
              "(0.5544948289578361,\n",
              " 0.5544948289578361,\n",
              " 0.5544948289578361,\n",
              " 0.5544948289578361)"
            ]
          },
          "metadata": {},
          "execution_count": 15
        }
      ],
      "source": [
        "cf4_matrix = confusion_matrix(y4_test, y4_pred)\n",
        "f1 = f1_score(y4_test, y4_pred, average='micro')\n",
        "recall = recall_score(y4_test, y4_pred, average='micro')\n",
        "precision = precision_score(y4_test, y4_pred, average='micro')\n",
        "accuracy = accuracy_score(y4_test, y4_pred)\n",
        "f1, recall, precision, accuracy"
      ]
    },
    {
      "cell_type": "code",
      "source": [
        "data = {'f1': f1 ,'precision': precision , 'accuracy': accuracy , 'recall': recall}\n",
        "param = list(data.keys())\n",
        "pred = list(data.values())\n",
        "fig = plt.figure(figsize = (10, 5))\n",
        "plt.bar(param,pred,color = 'maroon',width = 0.4)\n",
        "plt.title('Random Forest Classifier Results')\n",
        "plt.show()"
      ],
      "metadata": {
        "colab": {
          "base_uri": "https://localhost:8080/",
          "height": 336
        },
        "outputId": "1220b39d-db18-4ae9-f4da-a2682400a619",
        "id": "C5JFyDOpr2NR"
      },
      "execution_count": null,
      "outputs": [
        {
          "output_type": "display_data",
          "data": {
            "text/plain": [
              "<Figure size 720x360 with 1 Axes>"
            ],
            "image/png": "[encoded data removed]"
          },
          "metadata": {
            "needs_background": "light"
          }
        }
      ]
    },
    {
      "cell_type": "markdown",
      "source": [
        "K-Nearest Neighbours Classifiers"
      ],
      "metadata": {
        "id": "VvNpybswr2NR"
      }
    },
    {
      "cell_type": "code",
      "execution_count": null,
      "metadata": {
        "colab": {
          "base_uri": "https://localhost:8080/"
        },
        "outputId": "5d58ed89-55b1-48a6-9583-314a5b47b022",
        "id": "fHlkyZgSr2NR"
      },
      "outputs": [
        {
          "output_type": "execute_result",
          "data": {
            "text/plain": [
              "KNeighborsClassifier()"
            ]
          },
          "metadata": {},
          "execution_count": 7
        }
      ],
      "source": [
        "x5_train, x5_test, y5_train, y5_test = train_test_split(X, Y, test_size=0.5, random_state=0)\n",
        "knn = KNeighborsClassifier()\n",
        "knn.fit(x5_train, y5_train)"
      ]
    },
    {
      "cell_type": "code",
      "execution_count": null,
      "metadata": {
        "colab": {
          "base_uri": "https://localhost:8080/"
        },
        "outputId": "2eab703f-5d5d-4c5a-b3b2-69f6bf16c03c",
        "id": "DvUTFifXr2NS"
      },
      "outputs": [
        {
          "output_type": "execute_result",
          "data": {
            "text/plain": [
              "array(['3', '6', '6', ..., '3', '8', '3'], dtype=object)"
            ]
          },
          "metadata": {},
          "execution_count": 8
        }
      ],
      "source": [
        "y5_pred = knn.predict(x5_test)\n",
        "y5_pred\n"
      ]
    },
    {
      "cell_type": "code",
      "source": [
        "plt.title('K-Nearest Neighbours Classifier Results')\n",
        "sns.countplot(y5_pred)"
      ],
      "metadata": {
        "colab": {
          "base_uri": "https://localhost:8080/",
          "height": 353
        },
        "outputId": "fbc2b474-e7a1-4752-8911-bfcb66bbbf45",
        "id": "61OYZ6o1r2NS"
      },
      "execution_count": null,
      "outputs": [
        {
          "output_type": "stream",
          "name": "stderr",
          "text": [
            "/usr/local/lib/python3.7/dist-packages/seaborn/_decorators.py:43: FutureWarning: Pass the following variable as a keyword arg: x. From version 0.12, the only valid positional argument will be `data`, and passing other arguments without an explicit keyword will result in an error or misinterpretation.\n",
            "  FutureWarning\n"
          ]
        },
        {
          "output_type": "execute_result",
          "data": {
            "text/plain": [
              "<matplotlib.axes._subplots.AxesSubplot at 0x7f1739376e90>"
            ]
          },
          "metadata": {},
          "execution_count": 10
        },
        {
          "output_type": "display_data",
          "data": {
            "text/plain": [
              "<Figure size 432x288 with 1 Axes>"
            ],
            "image/png": "[encoded data removed]"
          },
          "metadata": {
            "needs_background": "light"
          }
        }
      ]
    },
    {
      "cell_type": "code",
      "execution_count": null,
      "metadata": {
        "colab": {
          "base_uri": "https://localhost:8080/"
        },
        "outputId": "27d346b2-e515-4c80-acff-7df2791939a6",
        "id": "KG9cVu4Dr2NS"
      },
      "outputs": [
        {
          "output_type": "execute_result",
          "data": {
            "text/plain": [
              "(0.5139220365950676,\n",
              " 0.5139220365950676,\n",
              " 0.5139220365950676,\n",
              " 0.5139220365950676)"
            ]
          },
          "metadata": {},
          "execution_count": 11
        }
      ],
      "source": [
        "cf5_matrix = confusion_matrix(y5_test, y5_pred)\n",
        "f1 = f1_score(y5_test, y5_pred, average='micro')\n",
        "recall = recall_score(y5_test, y5_pred, average='micro')\n",
        "precision = precision_score(y5_test, y5_pred, average='micro')\n",
        "accuracy = accuracy_score(y5_test, y5_pred)\n",
        "f1, recall, precision, accuracy"
      ]
    },
    {
      "cell_type": "code",
      "source": [
        "data = {'f1': f1 ,'precision': precision , 'accuracy': accuracy , 'recall': recall}\n",
        "param = list(data.keys())\n",
        "pred = list(data.values())\n",
        "fig = plt.figure(figsize = (10, 5))\n",
        "plt.bar(param,pred,color = 'maroon',width = 0.4)\n",
        "plt.title('K-Nearest Neighbours Classifier Results')\n",
        "plt.show()"
      ],
      "metadata": {
        "colab": {
          "base_uri": "https://localhost:8080/",
          "height": 336
        },
        "outputId": "5ea9938e-12d6-4c66-cdc0-7a7aad38d92a",
        "id": "Tw0DiXUqr2NS"
      },
      "execution_count": null,
      "outputs": [
        {
          "output_type": "display_data",
          "data": {
            "text/plain": [
              "<Figure size 720x360 with 1 Axes>"
            ],
            "image/png": "[encoded data removed]"
          },
          "metadata": {
            "needs_background": "light"
          }
        }
      ]
    },
    {
      "cell_type": "markdown",
      "source": [
        "Gaussian Classifiers"
      ],
      "metadata": {
        "id": "T6FbG8g9r2NS"
      }
    },
    {
      "cell_type": "code",
      "execution_count": null,
      "metadata": {
        "colab": {
          "base_uri": "https://localhost:8080/"
        },
        "outputId": "0ac4fc9a-3da0-4526-edfb-1ed7d2423b5c",
        "id": "FeVOKVH0r2NT"
      },
      "outputs": [
        {
          "output_type": "execute_result",
          "data": {
            "text/plain": [
              "GaussianNB()"
            ]
          },
          "metadata": {},
          "execution_count": 26
        }
      ],
      "source": [
        "x6_train, x6_test, y6_train, y6_test = train_test_split(X, Y, test_size=0.3, random_state=0)\n",
        "gnb = GaussianNB()\n",
        "gnb.fit(x6_train, y6_train)"
      ]
    },
    {
      "cell_type": "code",
      "execution_count": null,
      "metadata": {
        "colab": {
          "base_uri": "https://localhost:8080/"
        },
        "outputId": "a06de167-10c7-45a4-d8dc-ff11c22be3ec",
        "id": "0lVIXANBr2NT"
      },
      "outputs": [
        {
          "output_type": "execute_result",
          "data": {
            "text/plain": [
              "array(['t', '4', 'k', 'p', 't', 't', 'x', '1', '3', 'b', 'l', '1', 't',\n",
              "       'u', 't', 'l', 't', 't', 't', 't', '5', 't', 'p', 'f', 't', '5',\n",
              "       't', '5', 't', 'k', 't', 'x', 't', '3', 't', 't', '5', 't', '7',\n",
              "       '7', 'u', 't', 't', '5', 'x', 'p', 't', '3', '4', '4', 't', 't',\n",
              "       '4', 't', 'l', 'g', 't', '8', 'f', 'x', '1', 'u', 't', '3', '1',\n",
              "       't', '1', 't', 't', 'l', 't', 'l', 'i', '1', '4', 't', 't', 'f',\n",
              "       't', 't', '3', '5', 'l', 't', 'x', 't', 't', '5', '4', '3', 't',\n",
              "       '7', '4', 'z', '1', '8', 'l', '8', '1', 't', '7', '7', 't', '4',\n",
              "       't', '1', 'k', 't', '4', 't', 't', 't', 't', 't', 'g', 'k', 'u',\n",
              "       '4', '1', 't', 'l', 't', 'g', 'p', '3', 't', 'k', '3', '1', 'u',\n",
              "       't', '4', '9', 't', 't', '1', 'u', '7', 't', '1', 't', 't', '8',\n",
              "       '5', 't', 'k', 'i', 't', 't', 'x', '9', 't', '4', 't', 't', '9',\n",
              "       't', 't', 't', 'i', 't', 't', 'b', 'x', 't', '5', 't', 't', 'f',\n",
              "       '8', '5', 't', 'f', 'g', 't', 'i', 'd', 't', '1', '1', '7', '1',\n",
              "       't', '1', 'z', 't', 't', 't', 't', 't', 'k', '4', 't', 'r', 'x',\n",
              "       't', 't', 't', 't', 't', 't', '4', 'u', 't', 't', 't', 'l', '7',\n",
              "       't', '9', '7', 'h', 'b', 't', 't', 't', '8', 't', 't', 't', '5',\n",
              "       '8', 't', '1', 'k', 't', '1', 't', '4', 't', 'f', 'l', 't', 'u',\n",
              "       'k', 't', 't', 't', 't', '4', 't', 'u', 't', 'i', 'k', 't', '5',\n",
              "       't', 'u', 'l', 't', 'x', 't', 'z', 't', 't', 't', '7', '1', 't',\n",
              "       't', 't', '5', 'f', '4', 'p', '1', 'l', 'p', '3', 't', 't', 't',\n",
              "       'l', 'i', 't', 'p', '4', '4', 'p', 'u', '7', 't', 't', 'z', 'x',\n",
              "       't', 'u', '4', 't', 't', 't', 'k', '3', 'p', 't', 't', '9', 'k',\n",
              "       't', 'p', '4', 'h', 'u', 't', 't', 't', 't', 't', 'd', 't', 'k',\n",
              "       't', '4', 't', 'k', '4', 't', 't', '3', 't', '5', 't', 'p', 't',\n",
              "       'k', 't', 't', '1', 't', 't', 'u', 't', 'd', '4', 't', 'l', 't',\n",
              "       '1', 't', 'p', 't', '4', '9', 'f', 't', 't', 't', '3', 't', 't',\n",
              "       '7', 'x', 't', 't', 't', 'h', '4', 'p', 't', '4', '3', 'f', 'x',\n",
              "       'u', 't', 't', '1', '9', 't', 't', '1', '4', '3', 't', 't', 't',\n",
              "       '5', '1', '4', 'i', 't', '8', 't', 't', 't', 'u', 't', 't', 'f',\n",
              "       't', '9', 't', 't', 't', '4', 'u', 't', 'k', 't', 't', 't', 't',\n",
              "       't', 't', 't', 't', '1', 'p', 't', 't', 't', 't', 't', 'x', '1',\n",
              "       't', 't', 't', '4', 'g', 'f', '3', 'u', 't', '3', 'f', 'b', '1',\n",
              "       't', 't', 't', 't', 'f', 't', 't', 't', 'x', 't', 't', 't', '1',\n",
              "       'x', '9', 't', 't', 't', 't', '1', 'i', 't', 'f', 'u', 'h', 'z',\n",
              "       'f', 't', 'k', 'i', 't', 't', '1', 't', 't', 't', 'l', 't', '1',\n",
              "       'u', '7', 't', 't', 't', 'h', 'z', 't', 't', 'f', 'f', 'l', 'd',\n",
              "       '5', 't', 't', 't', 'k', 'k', 't', 'l', '3', 't', '1', 't', 'k',\n",
              "       't', '8', 'g', '9', '9', '1', 't', '7', 't', '1', 't', 'h', 'x',\n",
              "       '7', 'l', '4', 't', 't', 'u', 't', 't', 't', 'l', 'k', 'k', 'p',\n",
              "       't', '1', '3', '5', 'p', '7', '3', '3', 't', '3', 't', '9', 'u',\n",
              "       't', 'x', '3', 't', '4', 't', 't', '5', 'b', 't', '5', 'u', '4',\n",
              "       'x', 'l', 't', 'l', '5', '4', 'b', '4', '4', 'b', '1', 't', 'u',\n",
              "       't', 't', 'l', '7', 't', 't', 't', '9', 't', 'x', 't', 'l', '1',\n",
              "       '8', 'k', 'f', '9', 't', 't', 't', 'h', '7', 'f', 'k', 't', 't',\n",
              "       'f', 't', 't', '8', 'z', 't', 'f', '4', 't', 't', 'h', 'u', 't',\n",
              "       'k', 't', 'r', '7', '3', 'k', 't', 't', 't', 't', 'x', '8', 't',\n",
              "       't', 't', 't', '4', 'f', '4', 'g', '7', 'k', 't', '8', 't', 'f',\n",
              "       'p', 'l', 't', 't', 't', 'k', 't', 't', '8', 'h', 't', 't', '1',\n",
              "       't', 'u', 'k', 't', 't', 't', 't', '4', 't', '5', 't', '9', 't',\n",
              "       't', '1', '4', 't', '9', 'u', 'f', 't', '1', '8', 'f', '4', 'k',\n",
              "       '4', 'f', 't', 't', 't', '1', 't', 't', '1', 'l', 't', 't', 't',\n",
              "       't', 'u', 't', '4', 'g', '5', 't', '3', '1', '1', 'x', '7', 'x',\n",
              "       'd', 'u', 't', 'p', 'x', 'g', 't', '7', 't', '8', 'd', 't', 't',\n",
              "       't', 't', 't', '5', 'g', 't', 't', 't', 't', 'g', 't', '7', 't',\n",
              "       '1', 'k', 't', 't', 'p', '1', 't', 't', 't', '5', 't', 't', 't',\n",
              "       'x', 'f', '5', '4', '5', 't', 't', 't', 'i', '7', 't', '3', 'k',\n",
              "       't', 't', 't', 'k', '5', 't', '1', '9', 't', 't', 't', 't', 't',\n",
              "       'g'], dtype='<U1')"
            ]
          },
          "metadata": {},
          "execution_count": 27
        }
      ],
      "source": [
        "y6_pred = gnb.predict(x6_test)\n",
        "y6_pred\n"
      ]
    },
    {
      "cell_type": "code",
      "source": [
        "plt.title('Gaussian Naive Bayes Classifier Results')\n",
        "sns.countplot(y4_pred)"
      ],
      "metadata": {
        "colab": {
          "base_uri": "https://localhost:8080/",
          "height": 353
        },
        "outputId": "7bf5f3e2-5d15-48e6-fe39-7b9a09224b77",
        "id": "Ves-CZ-9r2NT"
      },
      "execution_count": null,
      "outputs": [
        {
          "output_type": "stream",
          "name": "stderr",
          "text": [
            "/usr/local/lib/python3.7/dist-packages/seaborn/_decorators.py:43: FutureWarning: Pass the following variable as a keyword arg: x. From version 0.12, the only valid positional argument will be `data`, and passing other arguments without an explicit keyword will result in an error or misinterpretation.\n",
            "  FutureWarning\n"
          ]
        },
        {
          "output_type": "execute_result",
          "data": {
            "text/plain": [
              "<matplotlib.axes._subplots.AxesSubplot at 0x7f98b3363e90>"
            ]
          },
          "metadata": {},
          "execution_count": 28
        },
        {
          "output_type": "display_data",
          "data": {
            "text/plain": [
              "<Figure size 432x288 with 1 Axes>"
            ],
            "image/png": "[encoded data removed]"
          },
          "metadata": {
            "needs_background": "light"
          }
        }
      ]
    },
    {
      "cell_type": "code",
      "execution_count": null,
      "metadata": {
        "colab": {
          "base_uri": "https://localhost:8080/"
        },
        "outputId": "4e48dcc9-1142-43d2-8e81-22f4d86fff50",
        "id": "2G0P-ySer2NT"
      },
      "outputs": [
        {
          "output_type": "execute_result",
          "data": {
            "text/plain": [
              "(0.34966887417218545,\n",
              " 0.34966887417218545,\n",
              " 0.34966887417218545,\n",
              " 0.34966887417218545)"
            ]
          },
          "metadata": {},
          "execution_count": 29
        }
      ],
      "source": [
        "cf6_matrix = confusion_matrix(y6_test, y6_pred)\n",
        "f1 = f1_score(y6_test, y6_pred, average='micro')\n",
        "recall = recall_score(y6_test, y6_pred, average='micro')\n",
        "precision = precision_score(y6_test, y6_pred, average='micro')\n",
        "accuracy = accuracy_score(y6_test, y6_pred)\n",
        "f1, recall, precision, accuracy"
      ]
    },
    {
      "cell_type": "code",
      "source": [
        "data = {'f1': f1 ,'precision': precision , 'accuracy': accuracy , 'recall': recall}\n",
        "param = list(data.keys())\n",
        "pred = list(data.values())\n",
        "fig = plt.figure(figsize = (10, 5))\n",
        "plt.bar(param,pred,color = 'maroon',width = 0.4)\n",
        "plt.title('Gaussian Naive Bayes Classifier Results')\n",
        "plt.show()"
      ],
      "metadata": {
        "colab": {
          "base_uri": "https://localhost:8080/",
          "height": 336
        },
        "outputId": "669f439e-12a9-4994-c174-d2a24698b6cc",
        "id": "w0J8MQbsr2NT"
      },
      "execution_count": null,
      "outputs": [
        {
          "output_type": "display_data",
          "data": {
            "text/plain": [
              "<Figure size 720x360 with 1 Axes>"
            ],
            "image/png": "[encoded data removed]"
          },
          "metadata": {
            "needs_background": "light"
          }
        }
      ]
    },
    {
      "cell_type": "markdown",
      "source": [
        "Plotting the graph for the best accuracy classifier "
      ],
      "metadata": {
        "id": "GCkIjbbqr2NU"
      }
    },
    {
      "cell_type": "code",
      "execution_count": null,
      "metadata": {
        "colab": {
          "base_uri": "https://localhost:8080/",
          "height": 733
        },
        "outputId": "0222ebaf-9242-4e13-9778-99ca9295de08",
        "scrolled": true,
        "id": "wtoljDOur2NU"
      },
      "outputs": [
        {
          "output_type": "execute_result",
          "data": {
            "text/plain": [
              "<matplotlib.axes._subplots.AxesSubplot at 0x7f98b3502810>"
            ]
          },
          "metadata": {},
          "execution_count": 31
        },
        {
          "output_type": "display_data",
          "data": {
            "text/plain": [
              "<Figure size 864x864 with 2 Axes>"
            ],
            "image/png": "[encoded data removed]"
          },
          "metadata": {
            "needs_background": "light"
          }
        }
      ],
      "source": [
        "labels = sorted(list(set(df['Output'])))\n",
        "labels = [x.upper() for x in labels]\n",
        "\n",
        "fig, ax = plt.subplots(figsize=(12, 12))\n",
        "\n",
        "ax.set_title(\"Confusion Matrix for KNN - Face Recognition\")\n",
        "\n",
        "maping = sns.heatmap(cf4_matrix, \n",
        "                     annot=True,\n",
        "                     cmap = plt.cm.Blues, \n",
        "                     linewidths=.2,\n",
        "                     xticklabels=labels,\n",
        "                     yticklabels=labels, vmax=8,\n",
        "                     fmt='g',\n",
        "                     ax=ax\n",
        "                    )\n",
        "maping"
      ]
    },
    {
      "cell_type": "code",
      "execution_count": null,
      "metadata": {
        "id": "3WxJ0bxRr2NU"
      },
      "outputs": [],
      "source": [
        "import pickle\n",
        "\n",
        "# saving the model\n",
        "with open('drive/MyDrive/Colab_Assignments/NNFL/asl.pkl','wb') as f:\n",
        "    pickle.dump(rfc,f)"
      ]
    },
    {
      "cell_type": "code",
      "execution_count": null,
      "metadata": {
        "id": "VMwxpQG4r2NU"
      },
      "outputs": [],
      "source": [
        ""
      ]
    },
    {
      "cell_type": "markdown",
      "source": [
        "Results of custom dataset"
      ],
      "metadata": {
        "id": "msxY5k6Cr8nQ"
      }
    },
    {
      "cell_type": "code",
      "source": [
        ""
      ],
      "metadata": {
        "id": "0LjPdLBksoYD"
      },
      "execution_count": null,
      "outputs": []
    },
    {
      "cell_type": "code",
      "execution_count": null,
      "metadata": {
        "colab": {
          "base_uri": "https://localhost:8080/",
          "height": 386
        },
        "id": "V6aRg8dvBkMg",
        "outputId": "bf3b61b1-b13a-4390-b6dd-219e749ebbd7",
        "scrolled": true
      },
      "outputs": [
        {
          "output_type": "execute_result",
          "data": {
            "text/plain": [
              "         0         1             2         3         4         5         6   \\\n",
              "0  0.483963  0.815781 -9.946348e-08  0.450244  0.706100 -0.027994  0.439240   \n",
              "1  0.493517  0.801387 -1.054609e-07  0.463074  0.690492 -0.023793  0.454492   \n",
              "2  0.474794  0.778992 -1.198668e-07  0.438936  0.697238 -0.022526  0.421385   \n",
              "3  0.418913  0.793710 -2.233648e-07  0.375497  0.709947 -0.015758  0.356040   \n",
              "4  0.461605  0.821517 -1.533959e-07  0.433717  0.686947 -0.011918  0.426474   \n",
              "\n",
              "         7         8         9   ...        54        55        56        57  \\\n",
              "0  0.572880 -0.044254  0.429082  ...  0.617281  0.684442 -0.069038  0.581071   \n",
              "1  0.559139 -0.039351  0.444679  ...  0.626675  0.687874 -0.072435  0.588125   \n",
              "2  0.570957 -0.034542  0.407677  ...  0.578169  0.621828 -0.064958  0.550366   \n",
              "3  0.587426 -0.024778  0.340767  ...  0.508241  0.644811 -0.059964  0.477155   \n",
              "4  0.557077 -0.021748  0.425408  ...  0.587570  0.697766 -0.066972  0.548203   \n",
              "\n",
              "         58        59        60        61        62     63  \n",
              "0  0.712610 -0.061719  0.556754  0.722495 -0.048869  Happy  \n",
              "1  0.716165 -0.063649  0.564031  0.723483 -0.050208  Happy  \n",
              "2  0.663515 -0.056405  0.535809  0.686283 -0.043128  Happy  \n",
              "3  0.685922 -0.048391  0.468999  0.701300 -0.034880  Happy  \n",
              "4  0.724671 -0.054615  0.530492  0.734162 -0.039355  Happy  \n",
              "\n",
              "[5 rows x 64 columns]"
            ],
            "text/html": [
              "\n",
              "  <div id=\"df-2e7ae852-f46f-4c9d-a757-58500306df46\">\n",
              "    <div class=\"colab-df-container\">\n",
              "      <div>\n",
              "<style scoped>\n",
              "    .dataframe tbody tr th:only-of-type {\n",
              "        vertical-align: middle;\n",
              "    }\n",
              "\n",
              "    .dataframe tbody tr th {\n",
              "        vertical-align: top;\n",
              "    }\n",
              "\n",
              "    .dataframe thead th {\n",
              "        text-align: right;\n",
              "    }\n",
              "</style>\n",
              "<table border=\"1\" class=\"dataframe\">\n",
              "  <thead>\n",
              "    <tr style=\"text-align: right;\">\n",
              "      <th></th>\n",
              "      <th>0</th>\n",
              "      <th>1</th>\n",
              "      <th>2</th>\n",
              "      <th>3</th>\n",
              "      <th>4</th>\n",
              "      <th>5</th>\n",
              "      <th>6</th>\n",
              "      <th>7</th>\n",
              "      <th>8</th>\n",
              "      <th>9</th>\n",
              "      <th>...</th>\n",
              "      <th>54</th>\n",
              "      <th>55</th>\n",
              "      <th>56</th>\n",
              "      <th>57</th>\n",
              "      <th>58</th>\n",
              "      <th>59</th>\n",
              "      <th>60</th>\n",
              "      <th>61</th>\n",
              "      <th>62</th>\n",
              "      <th>63</th>\n",
              "    </tr>\n",
              "  </thead>\n",
              "  <tbody>\n",
              "    <tr>\n",
              "      <th>0</th>\n",
              "      <td>0.483963</td>\n",
              "      <td>0.815781</td>\n",
              "      <td>-9.946348e-08</td>\n",
              "      <td>0.450244</td>\n",
              "      <td>0.706100</td>\n",
              "      <td>-0.027994</td>\n",
              "      <td>0.439240</td>\n",
              "      <td>0.572880</td>\n",
              "      <td>-0.044254</td>\n",
              "      <td>0.429082</td>\n",
              "      <td>...</td>\n",
              "      <td>0.617281</td>\n",
              "      <td>0.684442</td>\n",
              "      <td>-0.069038</td>\n",
              "      <td>0.581071</td>\n",
              "      <td>0.712610</td>\n",
              "      <td>-0.061719</td>\n",
              "      <td>0.556754</td>\n",
              "      <td>0.722495</td>\n",
              "      <td>-0.048869</td>\n",
              "      <td>Happy</td>\n",
              "    </tr>\n",
              "    <tr>\n",
              "      <th>1</th>\n",
              "      <td>0.493517</td>\n",
              "      <td>0.801387</td>\n",
              "      <td>-1.054609e-07</td>\n",
              "      <td>0.463074</td>\n",
              "      <td>0.690492</td>\n",
              "      <td>-0.023793</td>\n",
              "      <td>0.454492</td>\n",
              "      <td>0.559139</td>\n",
              "      <td>-0.039351</td>\n",
              "      <td>0.444679</td>\n",
              "      <td>...</td>\n",
              "      <td>0.626675</td>\n",
              "      <td>0.687874</td>\n",
              "      <td>-0.072435</td>\n",
              "      <td>0.588125</td>\n",
              "      <td>0.716165</td>\n",
              "      <td>-0.063649</td>\n",
              "      <td>0.564031</td>\n",
              "      <td>0.723483</td>\n",
              "      <td>-0.050208</td>\n",
              "      <td>Happy</td>\n",
              "    </tr>\n",
              "    <tr>\n",
              "      <th>2</th>\n",
              "      <td>0.474794</td>\n",
              "      <td>0.778992</td>\n",
              "      <td>-1.198668e-07</td>\n",
              "      <td>0.438936</td>\n",
              "      <td>0.697238</td>\n",
              "      <td>-0.022526</td>\n",
              "      <td>0.421385</td>\n",
              "      <td>0.570957</td>\n",
              "      <td>-0.034542</td>\n",
              "      <td>0.407677</td>\n",
              "      <td>...</td>\n",
              "      <td>0.578169</td>\n",
              "      <td>0.621828</td>\n",
              "      <td>-0.064958</td>\n",
              "      <td>0.550366</td>\n",
              "      <td>0.663515</td>\n",
              "      <td>-0.056405</td>\n",
              "      <td>0.535809</td>\n",
              "      <td>0.686283</td>\n",
              "      <td>-0.043128</td>\n",
              "      <td>Happy</td>\n",
              "    </tr>\n",
              "    <tr>\n",
              "      <th>3</th>\n",
              "      <td>0.418913</td>\n",
              "      <td>0.793710</td>\n",
              "      <td>-2.233648e-07</td>\n",
              "      <td>0.375497</td>\n",
              "      <td>0.709947</td>\n",
              "      <td>-0.015758</td>\n",
              "      <td>0.356040</td>\n",
              "      <td>0.587426</td>\n",
              "      <td>-0.024778</td>\n",
              "      <td>0.340767</td>\n",
              "      <td>...</td>\n",
              "      <td>0.508241</td>\n",
              "      <td>0.644811</td>\n",
              "      <td>-0.059964</td>\n",
              "      <td>0.477155</td>\n",
              "      <td>0.685922</td>\n",
              "      <td>-0.048391</td>\n",
              "      <td>0.468999</td>\n",
              "      <td>0.701300</td>\n",
              "      <td>-0.034880</td>\n",
              "      <td>Happy</td>\n",
              "    </tr>\n",
              "    <tr>\n",
              "      <th>4</th>\n",
              "      <td>0.461605</td>\n",
              "      <td>0.821517</td>\n",
              "      <td>-1.533959e-07</td>\n",
              "      <td>0.433717</td>\n",
              "      <td>0.686947</td>\n",
              "      <td>-0.011918</td>\n",
              "      <td>0.426474</td>\n",
              "      <td>0.557077</td>\n",
              "      <td>-0.021748</td>\n",
              "      <td>0.425408</td>\n",
              "      <td>...</td>\n",
              "      <td>0.587570</td>\n",
              "      <td>0.697766</td>\n",
              "      <td>-0.066972</td>\n",
              "      <td>0.548203</td>\n",
              "      <td>0.724671</td>\n",
              "      <td>-0.054615</td>\n",
              "      <td>0.530492</td>\n",
              "      <td>0.734162</td>\n",
              "      <td>-0.039355</td>\n",
              "      <td>Happy</td>\n",
              "    </tr>\n",
              "  </tbody>\n",
              "</table>\n",
              "<p>5 rows × 64 columns</p>\n",
              "</div>\n",
              "      <button class=\"colab-df-convert\" onclick=\"convertToInteractive('df-2e7ae852-f46f-4c9d-a757-58500306df46')\"\n",
              "              title=\"Convert this dataframe to an interactive table.\"\n",
              "              style=\"display:none;\">\n",
              "        \n",
              "  <svg xmlns=\"http://www.w3.org/2000/svg\" height=\"24px\"viewBox=\"0 0 24 24\"\n",
              "       width=\"24px\">\n",
              "    <path d=\"M0 0h24v24H0V0z\" fill=\"none\"/>\n",
              "    <path d=\"M18.56 5.44l.94 2.06.94-2.06 2.06-.94-2.06-.94-.94-2.06-.94 2.06-2.06.94zm-11 1L8.5 8.5l.94-2.06 2.06-.94-2.06-.94L8.5 2.5l-.94 2.06-2.06.94zm10 10l.94 2.06.94-2.06 2.06-.94-2.06-.94-.94-2.06-.94 2.06-2.06.94z\"/><path d=\"M17.41 7.96l-1.37-1.37c-.4-.4-.92-.59-1.43-.59-.52 0-1.04.2-1.43.59L10.3 9.45l-7.72 7.72c-.78.78-.78 2.05 0 2.83L4 21.41c.39.39.9.59 1.41.59.51 0 1.02-.2 1.41-.59l7.78-7.78 2.81-2.81c.8-.78.8-2.07 0-2.86zM5.41 20L4 18.59l7.72-7.72 1.47 1.35L5.41 20z\"/>\n",
              "  </svg>\n",
              "      </button>\n",
              "      \n",
              "  <style>\n",
              "    .colab-df-container {\n",
              "      display:flex;\n",
              "      flex-wrap:wrap;\n",
              "      gap: 12px;\n",
              "    }\n",
              "\n",
              "    .colab-df-convert {\n",
              "      background-color: #E8F0FE;\n",
              "      border: none;\n",
              "      border-radius: 50%;\n",
              "      cursor: pointer;\n",
              "      display: none;\n",
              "      fill: #1967D2;\n",
              "      height: 32px;\n",
              "      padding: 0 0 0 0;\n",
              "      width: 32px;\n",
              "    }\n",
              "\n",
              "    .colab-df-convert:hover {\n",
              "      background-color: #E2EBFA;\n",
              "      box-shadow: 0px 1px 2px rgba(60, 64, 67, 0.3), 0px 1px 3px 1px rgba(60, 64, 67, 0.15);\n",
              "      fill: #174EA6;\n",
              "    }\n",
              "\n",
              "    [theme=dark] .colab-df-convert {\n",
              "      background-color: #3B4455;\n",
              "      fill: #D2E3FC;\n",
              "    }\n",
              "\n",
              "    [theme=dark] .colab-df-convert:hover {\n",
              "      background-color: #434B5C;\n",
              "      box-shadow: 0px 1px 3px 1px rgba(0, 0, 0, 0.15);\n",
              "      filter: drop-shadow(0px 1px 2px rgba(0, 0, 0, 0.3));\n",
              "      fill: #FFFFFF;\n",
              "    }\n",
              "  </style>\n",
              "\n",
              "      <script>\n",
              "        const buttonEl =\n",
              "          document.querySelector('#df-2e7ae852-f46f-4c9d-a757-58500306df46 button.colab-df-convert');\n",
              "        buttonEl.style.display =\n",
              "          google.colab.kernel.accessAllowed ? 'block' : 'none';\n",
              "\n",
              "        async function convertToInteractive(key) {\n",
              "          const element = document.querySelector('#df-2e7ae852-f46f-4c9d-a757-58500306df46');\n",
              "          const dataTable =\n",
              "            await google.colab.kernel.invokeFunction('convertToInteractive',\n",
              "                                                     [key], {});\n",
              "          if (!dataTable) return;\n",
              "\n",
              "          const docLinkHtml = 'Like what you see? Visit the ' +\n",
              "            '<a target=\"_blank\" href=https://colab.research.google.com/notebooks/data_table.ipynb>data table notebook</a>'\n",
              "            + ' to learn more about interactive tables.';\n",
              "          element.innerHTML = '';\n",
              "          dataTable['output_type'] = 'display_data';\n",
              "          await google.colab.output.renderOutput(dataTable, element);\n",
              "          const docLink = document.createElement('div');\n",
              "          docLink.innerHTML = docLinkHtml;\n",
              "          element.appendChild(docLink);\n",
              "        }\n",
              "      </script>\n",
              "    </div>\n",
              "  </div>\n",
              "  "
            ]
          },
          "metadata": {},
          "execution_count": 33
        }
      ],
      "source": [
        "#read the csv file and print the data\n",
        "df = pd.read_csv('drive/MyDrive/Colab_Assignments/NNFL/custom.csv')\n",
        "df.columns = [i for i in range(df.shape[1])]\n",
        "df.head()"
      ]
    },
    {
      "cell_type": "code",
      "execution_count": null,
      "metadata": {
        "colab": {
          "base_uri": "https://localhost:8080/",
          "height": 661
        },
        "id": "_YEMMH4OBkMh",
        "outputId": "6ca86c91-8e50-4cae-a20c-a2b369f81750",
        "scrolled": true
      },
      "outputs": [
        {
          "output_type": "execute_result",
          "data": {
            "text/plain": [
              "            0         1             2         3         4         5         6  \\\n",
              "0    0.483963  0.815781 -9.946348e-08  0.450244  0.706100 -0.027994  0.439240   \n",
              "1    0.493517  0.801387 -1.054609e-07  0.463074  0.690492 -0.023793  0.454492   \n",
              "2    0.474794  0.778992 -1.198668e-07  0.438936  0.697238 -0.022526  0.421385   \n",
              "3    0.418913  0.793710 -2.233648e-07  0.375497  0.709947 -0.015758  0.356040   \n",
              "4    0.461605  0.821517 -1.533959e-07  0.433717  0.686947 -0.011918  0.426474   \n",
              "..        ...       ...           ...       ...       ...       ...       ...   \n",
              "594  0.709229  0.614102 -1.614874e-07  0.682569  0.507246  0.001715  0.637569   \n",
              "595  0.711528  0.607465 -2.009692e-07  0.682369  0.500068  0.002898  0.635920   \n",
              "596  0.650339  0.648039 -1.534917e-07  0.616402  0.536512  0.003160  0.566618   \n",
              "597  0.852246  0.710838 -1.748159e-07  0.827651  0.607012  0.000329  0.782406   \n",
              "598  0.672022  0.709946 -5.241209e-07  0.617127  0.586629 -0.019374  0.580534   \n",
              "\n",
              "            7         8         9  ...        54        55        56  \\\n",
              "0    0.572880 -0.044254  0.429082  ...  0.617281  0.684442 -0.069038   \n",
              "1    0.559139 -0.039351  0.444679  ...  0.626675  0.687874 -0.072435   \n",
              "2    0.570957 -0.034542  0.407677  ...  0.578169  0.621828 -0.064958   \n",
              "3    0.587426 -0.024778  0.340767  ...  0.508241  0.644811 -0.059964   \n",
              "4    0.557077 -0.021748  0.425408  ...  0.587570  0.697766 -0.066972   \n",
              "..        ...       ...       ...  ...       ...       ...       ...   \n",
              "594  0.414671 -0.007333  0.605993  ...  0.559787  0.647901 -0.042191   \n",
              "595  0.407146 -0.005385  0.600994  ...  0.557444  0.642045 -0.036745   \n",
              "596  0.446635 -0.004722  0.529259  ...  0.496728  0.696814 -0.031554   \n",
              "597  0.503147 -0.011168  0.751359  ...  0.703214  0.734989 -0.070995   \n",
              "598  0.445872 -0.042199  0.575526  ...  0.550398  0.731376 -0.113734   \n",
              "\n",
              "           57        58        59        60        61        62  Output  \n",
              "0    0.581071  0.712610 -0.061719  0.556754  0.722495 -0.048869   Happy  \n",
              "1    0.588125  0.716165 -0.063649  0.564031  0.723483 -0.050208   Happy  \n",
              "2    0.550366  0.663515 -0.056405  0.535809  0.686283 -0.043128   Happy  \n",
              "3    0.477155  0.685922 -0.048391  0.468999  0.701300 -0.034880   Happy  \n",
              "4    0.548203  0.724671 -0.054615  0.530492  0.734162 -0.039355   Happy  \n",
              "..        ...       ...       ...       ...       ...       ...     ...  \n",
              "594  0.579724  0.651024 -0.029727  0.600677  0.649711 -0.021102     yes  \n",
              "595  0.577275  0.646379 -0.023580  0.597964  0.646261 -0.014832     yes  \n",
              "596  0.516109  0.694297 -0.018076  0.536717  0.695074 -0.009063     yes  \n",
              "597  0.721945  0.734483 -0.059120  0.746880  0.734602 -0.049594     yes  \n",
              "598  0.564053  0.739796 -0.102153  0.595465  0.737177 -0.094521     yes  \n",
              "\n",
              "[599 rows x 64 columns]"
            ],
            "text/html": [
              "\n",
              "  <div id=\"df-fd10a4a4-c111-40e7-b5cd-9743e390a0f9\">\n",
              "    <div class=\"colab-df-container\">\n",
              "      <div>\n",
              "<style scoped>\n",
              "    .dataframe tbody tr th:only-of-type {\n",
              "        vertical-align: middle;\n",
              "    }\n",
              "\n",
              "    .dataframe tbody tr th {\n",
              "        vertical-align: top;\n",
              "    }\n",
              "\n",
              "    .dataframe thead th {\n",
              "        text-align: right;\n",
              "    }\n",
              "</style>\n",
              "<table border=\"1\" class=\"dataframe\">\n",
              "  <thead>\n",
              "    <tr style=\"text-align: right;\">\n",
              "      <th></th>\n",
              "      <th>0</th>\n",
              "      <th>1</th>\n",
              "      <th>2</th>\n",
              "      <th>3</th>\n",
              "      <th>4</th>\n",
              "      <th>5</th>\n",
              "      <th>6</th>\n",
              "      <th>7</th>\n",
              "      <th>8</th>\n",
              "      <th>9</th>\n",
              "      <th>...</th>\n",
              "      <th>54</th>\n",
              "      <th>55</th>\n",
              "      <th>56</th>\n",
              "      <th>57</th>\n",
              "      <th>58</th>\n",
              "      <th>59</th>\n",
              "      <th>60</th>\n",
              "      <th>61</th>\n",
              "      <th>62</th>\n",
              "      <th>Output</th>\n",
              "    </tr>\n",
              "  </thead>\n",
              "  <tbody>\n",
              "    <tr>\n",
              "      <th>0</th>\n",
              "      <td>0.483963</td>\n",
              "      <td>0.815781</td>\n",
              "      <td>-9.946348e-08</td>\n",
              "      <td>0.450244</td>\n",
              "      <td>0.706100</td>\n",
              "      <td>-0.027994</td>\n",
              "      <td>0.439240</td>\n",
              "      <td>0.572880</td>\n",
              "      <td>-0.044254</td>\n",
              "      <td>0.429082</td>\n",
              "      <td>...</td>\n",
              "      <td>0.617281</td>\n",
              "      <td>0.684442</td>\n",
              "      <td>-0.069038</td>\n",
              "      <td>0.581071</td>\n",
              "      <td>0.712610</td>\n",
              "      <td>-0.061719</td>\n",
              "      <td>0.556754</td>\n",
              "      <td>0.722495</td>\n",
              "      <td>-0.048869</td>\n",
              "      <td>Happy</td>\n",
              "    </tr>\n",
              "    <tr>\n",
              "      <th>1</th>\n",
              "      <td>0.493517</td>\n",
              "      <td>0.801387</td>\n",
              "      <td>-1.054609e-07</td>\n",
              "      <td>0.463074</td>\n",
              "      <td>0.690492</td>\n",
              "      <td>-0.023793</td>\n",
              "      <td>0.454492</td>\n",
              "      <td>0.559139</td>\n",
              "      <td>-0.039351</td>\n",
              "      <td>0.444679</td>\n",
              "      <td>...</td>\n",
              "      <td>0.626675</td>\n",
              "      <td>0.687874</td>\n",
              "      <td>-0.072435</td>\n",
              "      <td>0.588125</td>\n",
              "      <td>0.716165</td>\n",
              "      <td>-0.063649</td>\n",
              "      <td>0.564031</td>\n",
              "      <td>0.723483</td>\n",
              "      <td>-0.050208</td>\n",
              "      <td>Happy</td>\n",
              "    </tr>\n",
              "    <tr>\n",
              "      <th>2</th>\n",
              "      <td>0.474794</td>\n",
              "      <td>0.778992</td>\n",
              "      <td>-1.198668e-07</td>\n",
              "      <td>0.438936</td>\n",
              "      <td>0.697238</td>\n",
              "      <td>-0.022526</td>\n",
              "      <td>0.421385</td>\n",
              "      <td>0.570957</td>\n",
              "      <td>-0.034542</td>\n",
              "      <td>0.407677</td>\n",
              "      <td>...</td>\n",
              "      <td>0.578169</td>\n",
              "      <td>0.621828</td>\n",
              "      <td>-0.064958</td>\n",
              "      <td>0.550366</td>\n",
              "      <td>0.663515</td>\n",
              "      <td>-0.056405</td>\n",
              "      <td>0.535809</td>\n",
              "      <td>0.686283</td>\n",
              "      <td>-0.043128</td>\n",
              "      <td>Happy</td>\n",
              "    </tr>\n",
              "    <tr>\n",
              "      <th>3</th>\n",
              "      <td>0.418913</td>\n",
              "      <td>0.793710</td>\n",
              "      <td>-2.233648e-07</td>\n",
              "      <td>0.375497</td>\n",
              "      <td>0.709947</td>\n",
              "      <td>-0.015758</td>\n",
              "      <td>0.356040</td>\n",
              "      <td>0.587426</td>\n",
              "      <td>-0.024778</td>\n",
              "      <td>0.340767</td>\n",
              "      <td>...</td>\n",
              "      <td>0.508241</td>\n",
              "      <td>0.644811</td>\n",
              "      <td>-0.059964</td>\n",
              "      <td>0.477155</td>\n",
              "      <td>0.685922</td>\n",
              "      <td>-0.048391</td>\n",
              "      <td>0.468999</td>\n",
              "      <td>0.701300</td>\n",
              "      <td>-0.034880</td>\n",
              "      <td>Happy</td>\n",
              "    </tr>\n",
              "    <tr>\n",
              "      <th>4</th>\n",
              "      <td>0.461605</td>\n",
              "      <td>0.821517</td>\n",
              "      <td>-1.533959e-07</td>\n",
              "      <td>0.433717</td>\n",
              "      <td>0.686947</td>\n",
              "      <td>-0.011918</td>\n",
              "      <td>0.426474</td>\n",
              "      <td>0.557077</td>\n",
              "      <td>-0.021748</td>\n",
              "      <td>0.425408</td>\n",
              "      <td>...</td>\n",
              "      <td>0.587570</td>\n",
              "      <td>0.697766</td>\n",
              "      <td>-0.066972</td>\n",
              "      <td>0.548203</td>\n",
              "      <td>0.724671</td>\n",
              "      <td>-0.054615</td>\n",
              "      <td>0.530492</td>\n",
              "      <td>0.734162</td>\n",
              "      <td>-0.039355</td>\n",
              "      <td>Happy</td>\n",
              "    </tr>\n",
              "    <tr>\n",
              "      <th>...</th>\n",
              "      <td>...</td>\n",
              "      <td>...</td>\n",
              "      <td>...</td>\n",
              "      <td>...</td>\n",
              "      <td>...</td>\n",
              "      <td>...</td>\n",
              "      <td>...</td>\n",
              "      <td>...</td>\n",
              "      <td>...</td>\n",
              "      <td>...</td>\n",
              "      <td>...</td>\n",
              "      <td>...</td>\n",
              "      <td>...</td>\n",
              "      <td>...</td>\n",
              "      <td>...</td>\n",
              "      <td>...</td>\n",
              "      <td>...</td>\n",
              "      <td>...</td>\n",
              "      <td>...</td>\n",
              "      <td>...</td>\n",
              "      <td>...</td>\n",
              "    </tr>\n",
              "    <tr>\n",
              "      <th>594</th>\n",
              "      <td>0.709229</td>\n",
              "      <td>0.614102</td>\n",
              "      <td>-1.614874e-07</td>\n",
              "      <td>0.682569</td>\n",
              "      <td>0.507246</td>\n",
              "      <td>0.001715</td>\n",
              "      <td>0.637569</td>\n",
              "      <td>0.414671</td>\n",
              "      <td>-0.007333</td>\n",
              "      <td>0.605993</td>\n",
              "      <td>...</td>\n",
              "      <td>0.559787</td>\n",
              "      <td>0.647901</td>\n",
              "      <td>-0.042191</td>\n",
              "      <td>0.579724</td>\n",
              "      <td>0.651024</td>\n",
              "      <td>-0.029727</td>\n",
              "      <td>0.600677</td>\n",
              "      <td>0.649711</td>\n",
              "      <td>-0.021102</td>\n",
              "      <td>yes</td>\n",
              "    </tr>\n",
              "    <tr>\n",
              "      <th>595</th>\n",
              "      <td>0.711528</td>\n",
              "      <td>0.607465</td>\n",
              "      <td>-2.009692e-07</td>\n",
              "      <td>0.682369</td>\n",
              "      <td>0.500068</td>\n",
              "      <td>0.002898</td>\n",
              "      <td>0.635920</td>\n",
              "      <td>0.407146</td>\n",
              "      <td>-0.005385</td>\n",
              "      <td>0.600994</td>\n",
              "      <td>...</td>\n",
              "      <td>0.557444</td>\n",
              "      <td>0.642045</td>\n",
              "      <td>-0.036745</td>\n",
              "      <td>0.577275</td>\n",
              "      <td>0.646379</td>\n",
              "      <td>-0.023580</td>\n",
              "      <td>0.597964</td>\n",
              "      <td>0.646261</td>\n",
              "      <td>-0.014832</td>\n",
              "      <td>yes</td>\n",
              "    </tr>\n",
              "    <tr>\n",
              "      <th>596</th>\n",
              "      <td>0.650339</td>\n",
              "      <td>0.648039</td>\n",
              "      <td>-1.534917e-07</td>\n",
              "      <td>0.616402</td>\n",
              "      <td>0.536512</td>\n",
              "      <td>0.003160</td>\n",
              "      <td>0.566618</td>\n",
              "      <td>0.446635</td>\n",
              "      <td>-0.004722</td>\n",
              "      <td>0.529259</td>\n",
              "      <td>...</td>\n",
              "      <td>0.496728</td>\n",
              "      <td>0.696814</td>\n",
              "      <td>-0.031554</td>\n",
              "      <td>0.516109</td>\n",
              "      <td>0.694297</td>\n",
              "      <td>-0.018076</td>\n",
              "      <td>0.536717</td>\n",
              "      <td>0.695074</td>\n",
              "      <td>-0.009063</td>\n",
              "      <td>yes</td>\n",
              "    </tr>\n",
              "    <tr>\n",
              "      <th>597</th>\n",
              "      <td>0.852246</td>\n",
              "      <td>0.710838</td>\n",
              "      <td>-1.748159e-07</td>\n",
              "      <td>0.827651</td>\n",
              "      <td>0.607012</td>\n",
              "      <td>0.000329</td>\n",
              "      <td>0.782406</td>\n",
              "      <td>0.503147</td>\n",
              "      <td>-0.011168</td>\n",
              "      <td>0.751359</td>\n",
              "      <td>...</td>\n",
              "      <td>0.703214</td>\n",
              "      <td>0.734989</td>\n",
              "      <td>-0.070995</td>\n",
              "      <td>0.721945</td>\n",
              "      <td>0.734483</td>\n",
              "      <td>-0.059120</td>\n",
              "      <td>0.746880</td>\n",
              "      <td>0.734602</td>\n",
              "      <td>-0.049594</td>\n",
              "      <td>yes</td>\n",
              "    </tr>\n",
              "    <tr>\n",
              "      <th>598</th>\n",
              "      <td>0.672022</td>\n",
              "      <td>0.709946</td>\n",
              "      <td>-5.241209e-07</td>\n",
              "      <td>0.617127</td>\n",
              "      <td>0.586629</td>\n",
              "      <td>-0.019374</td>\n",
              "      <td>0.580534</td>\n",
              "      <td>0.445872</td>\n",
              "      <td>-0.042199</td>\n",
              "      <td>0.575526</td>\n",
              "      <td>...</td>\n",
              "      <td>0.550398</td>\n",
              "      <td>0.731376</td>\n",
              "      <td>-0.113734</td>\n",
              "      <td>0.564053</td>\n",
              "      <td>0.739796</td>\n",
              "      <td>-0.102153</td>\n",
              "      <td>0.595465</td>\n",
              "      <td>0.737177</td>\n",
              "      <td>-0.094521</td>\n",
              "      <td>yes</td>\n",
              "    </tr>\n",
              "  </tbody>\n",
              "</table>\n",
              "<p>599 rows × 64 columns</p>\n",
              "</div>\n",
              "      <button class=\"colab-df-convert\" onclick=\"convertToInteractive('df-fd10a4a4-c111-40e7-b5cd-9743e390a0f9')\"\n",
              "              title=\"Convert this dataframe to an interactive table.\"\n",
              "              style=\"display:none;\">\n",
              "        \n",
              "  <svg xmlns=\"http://www.w3.org/2000/svg\" height=\"24px\"viewBox=\"0 0 24 24\"\n",
              "       width=\"24px\">\n",
              "    <path d=\"M0 0h24v24H0V0z\" fill=\"none\"/>\n",
              "    <path d=\"M18.56 5.44l.94 2.06.94-2.06 2.06-.94-2.06-.94-.94-2.06-.94 2.06-2.06.94zm-11 1L8.5 8.5l.94-2.06 2.06-.94-2.06-.94L8.5 2.5l-.94 2.06-2.06.94zm10 10l.94 2.06.94-2.06 2.06-.94-2.06-.94-.94-2.06-.94 2.06-2.06.94z\"/><path d=\"M17.41 7.96l-1.37-1.37c-.4-.4-.92-.59-1.43-.59-.52 0-1.04.2-1.43.59L10.3 9.45l-7.72 7.72c-.78.78-.78 2.05 0 2.83L4 21.41c.39.39.9.59 1.41.59.51 0 1.02-.2 1.41-.59l7.78-7.78 2.81-2.81c.8-.78.8-2.07 0-2.86zM5.41 20L4 18.59l7.72-7.72 1.47 1.35L5.41 20z\"/>\n",
              "  </svg>\n",
              "      </button>\n",
              "      \n",
              "  <style>\n",
              "    .colab-df-container {\n",
              "      display:flex;\n",
              "      flex-wrap:wrap;\n",
              "      gap: 12px;\n",
              "    }\n",
              "\n",
              "    .colab-df-convert {\n",
              "      background-color: #E8F0FE;\n",
              "      border: none;\n",
              "      border-radius: 50%;\n",
              "      cursor: pointer;\n",
              "      display: none;\n",
              "      fill: #1967D2;\n",
              "      height: 32px;\n",
              "      padding: 0 0 0 0;\n",
              "      width: 32px;\n",
              "    }\n",
              "\n",
              "    .colab-df-convert:hover {\n",
              "      background-color: #E2EBFA;\n",
              "      box-shadow: 0px 1px 2px rgba(60, 64, 67, 0.3), 0px 1px 3px 1px rgba(60, 64, 67, 0.15);\n",
              "      fill: #174EA6;\n",
              "    }\n",
              "\n",
              "    [theme=dark] .colab-df-convert {\n",
              "      background-color: #3B4455;\n",
              "      fill: #D2E3FC;\n",
              "    }\n",
              "\n",
              "    [theme=dark] .colab-df-convert:hover {\n",
              "      background-color: #434B5C;\n",
              "      box-shadow: 0px 1px 3px 1px rgba(0, 0, 0, 0.15);\n",
              "      filter: drop-shadow(0px 1px 2px rgba(0, 0, 0, 0.3));\n",
              "      fill: #FFFFFF;\n",
              "    }\n",
              "  </style>\n",
              "\n",
              "      <script>\n",
              "        const buttonEl =\n",
              "          document.querySelector('#df-fd10a4a4-c111-40e7-b5cd-9743e390a0f9 button.colab-df-convert');\n",
              "        buttonEl.style.display =\n",
              "          google.colab.kernel.accessAllowed ? 'block' : 'none';\n",
              "\n",
              "        async function convertToInteractive(key) {\n",
              "          const element = document.querySelector('#df-fd10a4a4-c111-40e7-b5cd-9743e390a0f9');\n",
              "          const dataTable =\n",
              "            await google.colab.kernel.invokeFunction('convertToInteractive',\n",
              "                                                     [key], {});\n",
              "          if (!dataTable) return;\n",
              "\n",
              "          const docLinkHtml = 'Like what you see? Visit the ' +\n",
              "            '<a target=\"_blank\" href=https://colab.research.google.com/notebooks/data_table.ipynb>data table notebook</a>'\n",
              "            + ' to learn more about interactive tables.';\n",
              "          element.innerHTML = '';\n",
              "          dataTable['output_type'] = 'display_data';\n",
              "          await google.colab.output.renderOutput(dataTable, element);\n",
              "          const docLink = document.createElement('div');\n",
              "          docLink.innerHTML = docLinkHtml;\n",
              "          element.appendChild(docLink);\n",
              "        }\n",
              "      </script>\n",
              "    </div>\n",
              "  </div>\n",
              "  "
            ]
          },
          "metadata": {},
          "execution_count": 34
        }
      ],
      "source": [
        "df = df.rename(columns={63: 'Output'})\n",
        "df\n"
      ]
    },
    {
      "cell_type": "code",
      "execution_count": null,
      "metadata": {
        "colab": {
          "base_uri": "https://localhost:8080/"
        },
        "id": "88U7lNx_BkMh",
        "outputId": "2ccebad6-27a3-476c-bcd1-9cc8a808ef1a"
      },
      "outputs": [
        {
          "output_type": "stream",
          "name": "stdout",
          "text": [
            "Features shape = (599, 63)\n",
            "Labels shape = (599,)\n"
          ]
        }
      ],
      "source": [
        "#defining X & Y\n",
        "X = df.iloc[:, :-1]\n",
        "print(\"Features shape =\", X.shape)\n",
        "\n",
        "Y = df.iloc[:, -1]\n",
        "print(\"Labels shape =\", Y.shape)"
      ]
    },
    {
      "cell_type": "markdown",
      "source": [
        "SVM Classifier"
      ],
      "metadata": {
        "id": "KN_-oYWJN8WW"
      }
    },
    {
      "cell_type": "code",
      "execution_count": null,
      "metadata": {
        "colab": {
          "base_uri": "https://localhost:8080/"
        },
        "id": "AsfHIjASBkMh",
        "outputId": "44d5178a-4813-407f-c56c-cccd992e790e"
      },
      "outputs": [
        {
          "output_type": "execute_result",
          "data": {
            "text/plain": [
              "SVC(C=10, gamma=0.1)"
            ]
          },
          "metadata": {},
          "execution_count": 36
        }
      ],
      "source": [
        "#splitting X & Y as train and test with 70% training and 30% testing\n",
        "x1_train, x1_test, y1_train, y1_test = train_test_split(X, Y, test_size=0.3, random_state=0)\n",
        "svm = SVC(C=10, gamma=0.1, kernel='rbf')\n",
        "svm.fit(x1_train, y1_train)"
      ]
    },
    {
      "cell_type": "code",
      "execution_count": null,
      "metadata": {
        "colab": {
          "base_uri": "https://localhost:8080/"
        },
        "id": "Rcv-Gn5QBkMi",
        "outputId": "3eb9033d-f795-445a-b9f7-ba640dc853c8"
      },
      "outputs": [
        {
          "output_type": "execute_result",
          "data": {
            "text/plain": [
              "array(['no', 'Happy', 'Hi', 'Hi', 'ThankYou', 'Bye', 'ThankYou', 'yes',\n",
              "       'yes', 'Hi', 'Hi', 'Bye', 'yes', 'yes', 'Bye', 'Bye', 'ThankYou',\n",
              "       'Bye', 'ThankYou', 'Bye', 'ThankYou', 'Happy', 'ThankYou', 'no',\n",
              "       'ThankYou', 'yes', 'Happy', 'Happy', 'Bye', 'yes', 'Hi', 'no',\n",
              "       'ThankYou', 'yes', 'Happy', 'Hi', 'Bye', 'yes', 'Bye', 'ThankYou',\n",
              "       'Bye', 'Happy', 'no', 'Happy', 'Bye', 'no', 'Hi', 'Hi', 'Bye',\n",
              "       'no', 'Hi', 'no', 'ThankYou', 'ThankYou', 'no', 'Hi', 'yes', 'Bye',\n",
              "       'no', 'Bye', 'ThankYou', 'Hi', 'no', 'Hi', 'yes', 'Happy', 'no',\n",
              "       'Bye', 'Happy', 'no', 'Happy', 'Happy', 'Bye', 'Bye', 'Hi', 'Bye',\n",
              "       'ThankYou', 'Happy', 'Hi', 'ThankYou', 'Happy', 'Happy', 'Happy',\n",
              "       'Happy', 'yes', 'Hi', 'ThankYou', 'yes', 'Hi', 'yes', 'Bye', 'no',\n",
              "       'Happy', 'no', 'Happy', 'Happy', 'no', 'no', 'ThankYou', 'Happy',\n",
              "       'Happy', 'yes', 'yes', 'ThankYou', 'Hi', 'yes', 'Hi', 'ThankYou',\n",
              "       'ThankYou', 'yes', 'Bye', 'Hi', 'no', 'yes', 'ThankYou', 'Happy',\n",
              "       'Happy', 'Bye', 'Bye', 'yes', 'Bye', 'yes', 'yes', 'Hi', 'Bye',\n",
              "       'Hi', 'ThankYou', 'Happy', 'Hi', 'ThankYou', 'ThankYou', 'Bye',\n",
              "       'no', 'yes', 'ThankYou', 'ThankYou', 'ThankYou', 'Hi', 'no', 'Hi',\n",
              "       'Happy', 'ThankYou', 'yes', 'no', 'Happy', 'ThankYou', 'ThankYou',\n",
              "       'ThankYou', 'Happy', 'ThankYou', 'Hi', 'Hi', 'no', 'Bye', 'Hi',\n",
              "       'Happy', 'no', 'Happy', 'Bye', 'no', 'Bye', 'no', 'ThankYou',\n",
              "       'yes', 'Bye', 'Bye', 'Hi', 'Bye', 'no', 'no', 'Happy', 'ThankYou',\n",
              "       'Hi', 'Hi', 'Bye', 'no', 'Hi', 'no', 'Bye', 'yes'], dtype=object)"
            ]
          },
          "metadata": {},
          "execution_count": 37
        }
      ],
      "source": [
        "#Predicting using classifiers\n",
        "y1_pred = svm.predict(x1_test)\n",
        "y1_pred\n"
      ]
    },
    {
      "cell_type": "code",
      "execution_count": null,
      "metadata": {
        "colab": {
          "base_uri": "https://localhost:8080/",
          "height": 353
        },
        "id": "pP0aq0eF2njb",
        "outputId": "b1c13e15-b4d8-4e30-b0d5-40d4322e5241"
      },
      "outputs": [
        {
          "output_type": "stream",
          "name": "stderr",
          "text": [
            "/usr/local/lib/python3.7/dist-packages/seaborn/_decorators.py:43: FutureWarning: Pass the following variable as a keyword arg: x. From version 0.12, the only valid positional argument will be `data`, and passing other arguments without an explicit keyword will result in an error or misinterpretation.\n",
            "  FutureWarning\n"
          ]
        },
        {
          "output_type": "execute_result",
          "data": {
            "text/plain": [
              "<matplotlib.axes._subplots.AxesSubplot at 0x7f98b278ae50>"
            ]
          },
          "metadata": {},
          "execution_count": 38
        },
        {
          "output_type": "display_data",
          "data": {
            "text/plain": [
              "<Figure size 432x288 with 1 Axes>"
            ],
            "image/png": "[encoded data removed]"
          },
          "metadata": {
            "needs_background": "light"
          }
        }
      ],
      "source": [
        "plt.title('SVM Classifier Results')\n",
        "sns.countplot(y1_pred)"
      ]
    },
    {
      "cell_type": "code",
      "execution_count": null,
      "metadata": {
        "colab": {
          "base_uri": "https://localhost:8080/"
        },
        "id": "7Uhp4DPmBkMj",
        "outputId": "8f180298-b8d7-4a86-e30f-26b445184005"
      },
      "outputs": [
        {
          "output_type": "execute_result",
          "data": {
            "text/plain": [
              "(0.9666666666666667,\n",
              " 0.9666666666666667,\n",
              " 0.9666666666666667,\n",
              " 0.9666666666666667)"
            ]
          },
          "metadata": {},
          "execution_count": 39
        }
      ],
      "source": [
        "cf1_matrix = confusion_matrix(y1_test, y1_pred)\n",
        "f1 = f1_score(y1_test, y1_pred, average='micro')\n",
        "recall = recall_score(y1_test, y1_pred, average='micro')\n",
        "precision = precision_score(y1_test, y1_pred, average='micro')\n",
        "accuracy = accuracy_score(y1_test, y1_pred)\n",
        "f1, recall, precision, accuracy"
      ]
    },
    {
      "cell_type": "code",
      "source": [
        "data = {'f1': f1 ,'precision': precision , 'accuracy': accuracy , 'recall': recall}\n",
        "param = list(data.keys())\n",
        "pred = list(data.values())\n",
        "fig = plt.figure(figsize = (10, 5))\n",
        "plt.bar(param,pred,color = 'maroon',width = 0.4)\n",
        "plt.title('SVM Classifier Results')\n",
        "plt.show()"
      ],
      "metadata": {
        "colab": {
          "base_uri": "https://localhost:8080/",
          "height": 336
        },
        "id": "soiEoQn5YDsX",
        "outputId": "b149795a-faeb-42ab-bb49-869755c3c2c1"
      },
      "execution_count": null,
      "outputs": [
        {
          "output_type": "display_data",
          "data": {
            "text/plain": [
              "<Figure size 720x360 with 1 Axes>"
            ],
            "image/png": "[encoded data removed]"
          },
          "metadata": {
            "needs_background": "light"
          }
        }
      ]
    },
    {
      "cell_type": "markdown",
      "source": [
        "Logistic Regression "
      ],
      "metadata": {
        "id": "74ysiqteN_kE"
      }
    },
    {
      "cell_type": "code",
      "execution_count": null,
      "metadata": {
        "colab": {
          "base_uri": "https://localhost:8080/"
        },
        "id": "PuAG_jfTBkMh",
        "outputId": "441358c5-26ea-4084-c747-d7e6eecba216"
      },
      "outputs": [
        {
          "output_type": "stream",
          "name": "stderr",
          "text": [
            "/usr/local/lib/python3.7/dist-packages/sklearn/linear_model/_logistic.py:818: ConvergenceWarning: lbfgs failed to converge (status=1):\n",
            "STOP: TOTAL NO. of ITERATIONS REACHED LIMIT.\n",
            "\n",
            "Increase the number of iterations (max_iter) or scale the data as shown in:\n",
            "    https://scikit-learn.org/stable/modules/preprocessing.html\n",
            "Please also refer to the documentation for alternative solver options:\n",
            "    https://scikit-learn.org/stable/modules/linear_model.html#logistic-regression\n",
            "  extra_warning_msg=_LOGISTIC_SOLVER_CONVERGENCE_MSG,\n"
          ]
        },
        {
          "output_type": "execute_result",
          "data": {
            "text/plain": [
              "LogisticRegression()"
            ]
          },
          "metadata": {},
          "execution_count": 41
        }
      ],
      "source": [
        "x2_train, x2_test, y2_train, y2_test = train_test_split(X, Y, test_size=0.3, random_state=0)\n",
        "reg = LogisticRegression()\n",
        "reg.fit(x2_train, y2_train)"
      ]
    },
    {
      "cell_type": "code",
      "execution_count": null,
      "metadata": {
        "colab": {
          "base_uri": "https://localhost:8080/"
        },
        "id": "5DAnSL6vBkMi",
        "outputId": "33374973-9a54-410e-8e60-ee77b258602b"
      },
      "outputs": [
        {
          "output_type": "execute_result",
          "data": {
            "text/plain": [
              "array(['no', 'Happy', 'Hi', 'Hi', 'ThankYou', 'Bye', 'ThankYou', 'yes',\n",
              "       'yes', 'Hi', 'Hi', 'Bye', 'yes', 'yes', 'Bye', 'Bye', 'ThankYou',\n",
              "       'Bye', 'ThankYou', 'Bye', 'ThankYou', 'Happy', 'ThankYou', 'no',\n",
              "       'ThankYou', 'yes', 'Happy', 'Happy', 'Bye', 'yes', 'Hi', 'no',\n",
              "       'ThankYou', 'yes', 'Happy', 'Hi', 'Bye', 'yes', 'Bye', 'ThankYou',\n",
              "       'Bye', 'Happy', 'no', 'Happy', 'Bye', 'no', 'Hi', 'Hi', 'Bye',\n",
              "       'no', 'Hi', 'no', 'ThankYou', 'ThankYou', 'no', 'Hi', 'yes', 'Bye',\n",
              "       'no', 'Bye', 'ThankYou', 'Hi', 'no', 'Hi', 'yes', 'Happy', 'no',\n",
              "       'Bye', 'Happy', 'no', 'Happy', 'Happy', 'Bye', 'Bye', 'Hi', 'Bye',\n",
              "       'ThankYou', 'Happy', 'Bye', 'ThankYou', 'Happy', 'Happy', 'Happy',\n",
              "       'Happy', 'yes', 'Hi', 'ThankYou', 'yes', 'Hi', 'yes', 'Bye', 'no',\n",
              "       'Happy', 'no', 'Happy', 'Happy', 'no', 'no', 'ThankYou', 'Happy',\n",
              "       'Happy', 'yes', 'yes', 'ThankYou', 'Hi', 'yes', 'Hi', 'ThankYou',\n",
              "       'ThankYou', 'yes', 'Bye', 'Hi', 'no', 'yes', 'ThankYou', 'Happy',\n",
              "       'Happy', 'Bye', 'Bye', 'yes', 'Bye', 'yes', 'yes', 'Hi', 'Bye',\n",
              "       'Hi', 'ThankYou', 'Happy', 'Hi', 'ThankYou', 'ThankYou', 'Bye',\n",
              "       'no', 'yes', 'ThankYou', 'ThankYou', 'ThankYou', 'Hi', 'no', 'Hi',\n",
              "       'Happy', 'ThankYou', 'yes', 'no', 'Happy', 'ThankYou', 'ThankYou',\n",
              "       'ThankYou', 'Happy', 'ThankYou', 'Hi', 'Hi', 'no', 'Bye', 'Hi',\n",
              "       'Happy', 'no', 'Happy', 'Bye', 'no', 'Bye', 'no', 'ThankYou',\n",
              "       'yes', 'Bye', 'Bye', 'Hi', 'Bye', 'no', 'no', 'Happy', 'ThankYou',\n",
              "       'Hi', 'Hi', 'Bye', 'no', 'Hi', 'no', 'Bye', 'yes'], dtype=object)"
            ]
          },
          "metadata": {},
          "execution_count": 42
        }
      ],
      "source": [
        "y2_pred = reg.predict(x2_test)\n",
        "y2_pred"
      ]
    },
    {
      "cell_type": "code",
      "execution_count": null,
      "metadata": {
        "colab": {
          "base_uri": "https://localhost:8080/",
          "height": 353
        },
        "id": "XLmsq7HW6Mtq",
        "outputId": "1bfdbc48-61b2-4d0b-d58b-5caaa0831fbb"
      },
      "outputs": [
        {
          "output_type": "stream",
          "name": "stderr",
          "text": [
            "/usr/local/lib/python3.7/dist-packages/seaborn/_decorators.py:43: FutureWarning: Pass the following variable as a keyword arg: x. From version 0.12, the only valid positional argument will be `data`, and passing other arguments without an explicit keyword will result in an error or misinterpretation.\n",
            "  FutureWarning\n"
          ]
        },
        {
          "output_type": "execute_result",
          "data": {
            "text/plain": [
              "<matplotlib.axes._subplots.AxesSubplot at 0x7f98b275a810>"
            ]
          },
          "metadata": {},
          "execution_count": 43
        },
        {
          "output_type": "display_data",
          "data": {
            "text/plain": [
              "<Figure size 432x288 with 1 Axes>"
            ],
            "image/png": "[encoded data removed]"
          },
          "metadata": {
            "needs_background": "light"
          }
        }
      ],
      "source": [
        "plt.title('Logistic Regression Classifier Results')\n",
        "sns.countplot(y2_pred)"
      ]
    },
    {
      "cell_type": "code",
      "execution_count": null,
      "metadata": {
        "colab": {
          "base_uri": "https://localhost:8080/"
        },
        "id": "XOHPCEWaFQVl",
        "outputId": "f8e63b12-7eaa-4ebd-8d5e-2cca8fb3d3f8"
      },
      "outputs": [
        {
          "output_type": "execute_result",
          "data": {
            "text/plain": [
              "(0.9722222222222222,\n",
              " 0.9722222222222222,\n",
              " 0.9722222222222222,\n",
              " 0.9722222222222222)"
            ]
          },
          "metadata": {},
          "execution_count": 44
        }
      ],
      "source": [
        "cf2_matrix = confusion_matrix(y2_test, y2_pred)\n",
        "f1 = f1_score(y2_test, y2_pred, average='micro')\n",
        "recall = recall_score(y2_test, y2_pred, average='micro')\n",
        "precision = precision_score(y2_test, y2_pred, average='micro')\n",
        "accuracy = accuracy_score(y2_test, y2_pred)\n",
        "f1, recall, precision, accuracy"
      ]
    },
    {
      "cell_type": "code",
      "source": [
        "data = {'f1': f1 ,'precision': precision , 'accuracy': accuracy , 'recall': recall}\n",
        "param = list(data.keys())\n",
        "pred = list(data.values())\n",
        "fig = plt.figure(figsize = (10, 5))\n",
        "plt.bar(param,pred,color = 'maroon',width = 0.4)\n",
        "plt.title('Logistic Regression Classifier Results')\n",
        "plt.show()"
      ],
      "metadata": {
        "colab": {
          "base_uri": "https://localhost:8080/",
          "height": 336
        },
        "id": "b9Efla0_rgNZ",
        "outputId": "f01674b9-93d1-4ef0-a6e5-c2889ad83cb0"
      },
      "execution_count": null,
      "outputs": [
        {
          "output_type": "display_data",
          "data": {
            "text/plain": [
              "<Figure size 720x360 with 1 Axes>"
            ],
            "image/png": "[encoded data removed]"
          },
          "metadata": {
            "needs_background": "light"
          }
        }
      ]
    },
    {
      "cell_type": "markdown",
      "source": [
        "Random Forest Classifier"
      ],
      "metadata": {
        "id": "tk4BPW9jOFKa"
      }
    },
    {
      "cell_type": "code",
      "execution_count": null,
      "metadata": {
        "colab": {
          "base_uri": "https://localhost:8080/"
        },
        "id": "AQYOZFivCYa9",
        "outputId": "8cef2052-73cc-4ff2-f513-631a1b9328c2"
      },
      "outputs": [
        {
          "output_type": "execute_result",
          "data": {
            "text/plain": [
              "RandomForestClassifier()"
            ]
          },
          "metadata": {},
          "execution_count": 46
        }
      ],
      "source": [
        "x4_train, x4_test, y4_train, y4_test = train_test_split(X, Y, test_size=0.3, random_state=0)\n",
        "rfc = RandomForestClassifier()\n",
        "rfc.fit(x4_train, y4_train)"
      ]
    },
    {
      "cell_type": "code",
      "execution_count": null,
      "metadata": {
        "colab": {
          "base_uri": "https://localhost:8080/"
        },
        "id": "dnZXoYVeCYFr",
        "outputId": "e015dd7a-7f57-4d47-ad33-ab8c1f0b00a3"
      },
      "outputs": [
        {
          "output_type": "execute_result",
          "data": {
            "text/plain": [
              "array(['no', 'Happy', 'Happy', 'Hi', 'ThankYou', 'Bye', 'ThankYou', 'yes',\n",
              "       'yes', 'Hi', 'Hi', 'Bye', 'yes', 'yes', 'Bye', 'Bye', 'ThankYou',\n",
              "       'Bye', 'ThankYou', 'Bye', 'Bye', 'Happy', 'ThankYou', 'no',\n",
              "       'ThankYou', 'yes', 'Happy', 'Happy', 'Bye', 'yes', 'Hi', 'no',\n",
              "       'ThankYou', 'yes', 'Happy', 'Hi', 'Bye', 'yes', 'Bye', 'ThankYou',\n",
              "       'Bye', 'Happy', 'no', 'Happy', 'Bye', 'no', 'Hi', 'Hi', 'Bye',\n",
              "       'no', 'Hi', 'no', 'ThankYou', 'ThankYou', 'no', 'Hi', 'yes', 'Bye',\n",
              "       'no', 'Bye', 'ThankYou', 'Hi', 'no', 'Hi', 'yes', 'Happy', 'no',\n",
              "       'Bye', 'Happy', 'no', 'Happy', 'Happy', 'Bye', 'Bye', 'Hi', 'Bye',\n",
              "       'ThankYou', 'Happy', 'Hi', 'ThankYou', 'Happy', 'Happy', 'Happy',\n",
              "       'Happy', 'yes', 'Hi', 'ThankYou', 'yes', 'Hi', 'yes', 'Bye', 'no',\n",
              "       'Happy', 'no', 'Happy', 'Happy', 'no', 'no', 'ThankYou', 'Happy',\n",
              "       'Happy', 'yes', 'yes', 'ThankYou', 'Hi', 'yes', 'Hi', 'ThankYou',\n",
              "       'ThankYou', 'yes', 'Bye', 'Hi', 'no', 'yes', 'ThankYou', 'Happy',\n",
              "       'Happy', 'Bye', 'Bye', 'yes', 'Bye', 'yes', 'Happy', 'Hi', 'Bye',\n",
              "       'Hi', 'ThankYou', 'Happy', 'Hi', 'ThankYou', 'ThankYou', 'Bye',\n",
              "       'no', 'yes', 'ThankYou', 'ThankYou', 'ThankYou', 'Hi', 'no', 'Hi',\n",
              "       'Happy', 'ThankYou', 'yes', 'no', 'Happy', 'ThankYou', 'ThankYou',\n",
              "       'ThankYou', 'Happy', 'ThankYou', 'Hi', 'Hi', 'no', 'Bye', 'Hi',\n",
              "       'Happy', 'no', 'Happy', 'Bye', 'no', 'Bye', 'no', 'ThankYou',\n",
              "       'yes', 'Bye', 'Happy', 'Hi', 'Bye', 'no', 'no', 'Happy',\n",
              "       'ThankYou', 'Hi', 'Hi', 'Bye', 'no', 'Hi', 'no', 'Bye', 'yes'],\n",
              "      dtype=object)"
            ]
          },
          "metadata": {},
          "execution_count": 47
        }
      ],
      "source": [
        "y4_pred = rfc.predict(x4_test)\n",
        "y4_pred\n"
      ]
    },
    {
      "cell_type": "code",
      "execution_count": null,
      "metadata": {
        "id": "CaTKlmyZ6ybK",
        "colab": {
          "base_uri": "https://localhost:8080/",
          "height": 353
        },
        "outputId": "25e2b563-0444-458d-cb45-12183d2490c3"
      },
      "outputs": [
        {
          "output_type": "stream",
          "name": "stderr",
          "text": [
            "/usr/local/lib/python3.7/dist-packages/seaborn/_decorators.py:43: FutureWarning: Pass the following variable as a keyword arg: x. From version 0.12, the only valid positional argument will be `data`, and passing other arguments without an explicit keyword will result in an error or misinterpretation.\n",
            "  FutureWarning\n"
          ]
        },
        {
          "output_type": "execute_result",
          "data": {
            "text/plain": [
              "<matplotlib.axes._subplots.AxesSubplot at 0x7f98b26a3910>"
            ]
          },
          "metadata": {},
          "execution_count": 48
        },
        {
          "output_type": "display_data",
          "data": {
            "text/plain": [
              "<Figure size 432x288 with 1 Axes>"
            ],
            "image/png": "[encoded data removed]"
          },
          "metadata": {
            "needs_background": "light"
          }
        }
      ],
      "source": [
        "plt.title('Random Forest Classifier Results')\n",
        "sns.countplot(y4_pred)"
      ]
    },
    {
      "cell_type": "code",
      "execution_count": null,
      "metadata": {
        "colab": {
          "base_uri": "https://localhost:8080/"
        },
        "id": "N6vAA4jPGSGs",
        "outputId": "dcbed5bf-9700-4846-ea12-6852907796d3"
      },
      "outputs": [
        {
          "output_type": "execute_result",
          "data": {
            "text/plain": [
              "(0.9500000000000001, 0.95, 0.95, 0.95)"
            ]
          },
          "metadata": {},
          "execution_count": 49
        }
      ],
      "source": [
        "cf4_matrix = confusion_matrix(y4_test, y4_pred)\n",
        "f1 = f1_score(y4_test, y4_pred, average='micro')\n",
        "recall = recall_score(y4_test, y4_pred, average='micro')\n",
        "precision = precision_score(y4_test, y4_pred, average='micro')\n",
        "accuracy = accuracy_score(y4_test, y4_pred)\n",
        "f1, recall, precision, accuracy"
      ]
    },
    {
      "cell_type": "code",
      "source": [
        "data = {'f1': f1 ,'precision': precision , 'accuracy': accuracy , 'recall': recall}\n",
        "param = list(data.keys())\n",
        "pred = list(data.values())\n",
        "fig = plt.figure(figsize = (10, 5))\n",
        "plt.bar(param,pred,color = 'maroon',width = 0.4)\n",
        "plt.title('Random Forest Classifier Results')\n",
        "plt.show()"
      ],
      "metadata": {
        "colab": {
          "base_uri": "https://localhost:8080/",
          "height": 336
        },
        "id": "6uK5HZRZrh-X",
        "outputId": "063b300b-b106-4ac0-a38b-cd2d1df423c4"
      },
      "execution_count": null,
      "outputs": [
        {
          "output_type": "display_data",
          "data": {
            "text/plain": [
              "<Figure size 720x360 with 1 Axes>"
            ],
            "image/png": "[encoded data removed]"
          },
          "metadata": {
            "needs_background": "light"
          }
        }
      ]
    },
    {
      "cell_type": "markdown",
      "source": [
        "K-Nearest Neighbours Classifiers"
      ],
      "metadata": {
        "id": "jEnbvZYhOIVB"
      }
    },
    {
      "cell_type": "code",
      "execution_count": null,
      "metadata": {
        "colab": {
          "base_uri": "https://localhost:8080/"
        },
        "id": "9oqzdxjUDY9q",
        "outputId": "d0121d56-74ac-43b9-9c30-f9ac60baed72"
      },
      "outputs": [
        {
          "output_type": "execute_result",
          "data": {
            "text/plain": [
              "KNeighborsClassifier()"
            ]
          },
          "metadata": {},
          "execution_count": 51
        }
      ],
      "source": [
        "x5_train, x5_test, y5_train, y5_test = train_test_split(X, Y, test_size=0.3, random_state=0)\n",
        "knn = KNeighborsClassifier()\n",
        "knn.fit(x5_train, y5_train)"
      ]
    },
    {
      "cell_type": "code",
      "execution_count": null,
      "metadata": {
        "colab": {
          "base_uri": "https://localhost:8080/"
        },
        "id": "vDP5YUuUDYu1",
        "outputId": "96d4844c-1670-45fc-bd93-e4a582d75875"
      },
      "outputs": [
        {
          "output_type": "execute_result",
          "data": {
            "text/plain": [
              "array(['no', 'Happy', 'Happy', 'Hi', 'ThankYou', 'Bye', 'ThankYou', 'yes',\n",
              "       'yes', 'Hi', 'Hi', 'Bye', 'yes', 'yes', 'Bye', 'Bye', 'ThankYou',\n",
              "       'Bye', 'ThankYou', 'Bye', 'ThankYou', 'Happy', 'ThankYou', 'no',\n",
              "       'ThankYou', 'yes', 'Happy', 'Happy', 'Bye', 'yes', 'Hi', 'no',\n",
              "       'ThankYou', 'yes', 'Happy', 'Hi', 'Bye', 'yes', 'Bye', 'ThankYou',\n",
              "       'Bye', 'Happy', 'no', 'Happy', 'Bye', 'no', 'Hi', 'Hi', 'Bye',\n",
              "       'no', 'Hi', 'no', 'ThankYou', 'ThankYou', 'no', 'Hi', 'yes', 'Bye',\n",
              "       'no', 'Bye', 'ThankYou', 'Hi', 'no', 'Hi', 'yes', 'Happy', 'no',\n",
              "       'Bye', 'Happy', 'no', 'Happy', 'Happy', 'Bye', 'Bye', 'Hi', 'Bye',\n",
              "       'ThankYou', 'Happy', 'Bye', 'ThankYou', 'Happy', 'Happy', 'Happy',\n",
              "       'Happy', 'yes', 'Hi', 'ThankYou', 'yes', 'Hi', 'yes', 'Bye', 'no',\n",
              "       'Happy', 'no', 'Happy', 'Happy', 'no', 'no', 'ThankYou', 'Happy',\n",
              "       'Happy', 'yes', 'yes', 'ThankYou', 'Hi', 'yes', 'Hi', 'ThankYou',\n",
              "       'ThankYou', 'yes', 'Bye', 'Hi', 'no', 'yes', 'ThankYou', 'Happy',\n",
              "       'Happy', 'Bye', 'Bye', 'yes', 'Bye', 'yes', 'yes', 'Hi', 'Bye',\n",
              "       'Hi', 'ThankYou', 'Happy', 'Hi', 'ThankYou', 'ThankYou', 'Bye',\n",
              "       'no', 'yes', 'ThankYou', 'ThankYou', 'ThankYou', 'Hi', 'no', 'Hi',\n",
              "       'Happy', 'ThankYou', 'yes', 'no', 'Happy', 'ThankYou', 'ThankYou',\n",
              "       'ThankYou', 'Happy', 'ThankYou', 'Hi', 'Hi', 'no', 'Bye', 'Hi',\n",
              "       'Happy', 'no', 'Happy', 'Bye', 'no', 'Bye', 'no', 'ThankYou',\n",
              "       'yes', 'Bye', 'Bye', 'Hi', 'Bye', 'no', 'no', 'Happy', 'ThankYou',\n",
              "       'Hi', 'Hi', 'Bye', 'no', 'Hi', 'no', 'Bye', 'yes'], dtype=object)"
            ]
          },
          "metadata": {},
          "execution_count": 52
        }
      ],
      "source": [
        "y5_pred = knn.predict(x5_test)\n",
        "y5_pred\n"
      ]
    },
    {
      "cell_type": "code",
      "source": [
        "plt.title('K-Nearest Neighbours Classifier Results')\n",
        "sns.countplot(y4_pred)"
      ],
      "metadata": {
        "colab": {
          "base_uri": "https://localhost:8080/",
          "height": 353
        },
        "id": "T30EHAQ3sI2p",
        "outputId": "26247ffa-6168-47c5-9bc6-74273e7cf783"
      },
      "execution_count": null,
      "outputs": [
        {
          "output_type": "stream",
          "name": "stderr",
          "text": [
            "/usr/local/lib/python3.7/dist-packages/seaborn/_decorators.py:43: FutureWarning: Pass the following variable as a keyword arg: x. From version 0.12, the only valid positional argument will be `data`, and passing other arguments without an explicit keyword will result in an error or misinterpretation.\n",
            "  FutureWarning\n"
          ]
        },
        {
          "output_type": "execute_result",
          "data": {
            "text/plain": [
              "<matplotlib.axes._subplots.AxesSubplot at 0x7f98b2595090>"
            ]
          },
          "metadata": {},
          "execution_count": 53
        },
        {
          "output_type": "display_data",
          "data": {
            "text/plain": [
              "<Figure size 432x288 with 1 Axes>"
            ],
            "image/png": "[encoded data removed]"
          },
          "metadata": {
            "needs_background": "light"
          }
        }
      ]
    },
    {
      "cell_type": "code",
      "execution_count": null,
      "metadata": {
        "colab": {
          "base_uri": "https://localhost:8080/"
        },
        "id": "aYS06gIwGRxF",
        "outputId": "a3f431b2-c6bc-4384-d8f4-30c92e92e396"
      },
      "outputs": [
        {
          "output_type": "execute_result",
          "data": {
            "text/plain": [
              "(0.9666666666666667,\n",
              " 0.9666666666666667,\n",
              " 0.9666666666666667,\n",
              " 0.9666666666666667)"
            ]
          },
          "metadata": {},
          "execution_count": 54
        }
      ],
      "source": [
        "cf5_matrix = confusion_matrix(y5_test, y5_pred)\n",
        "f1 = f1_score(y5_test, y5_pred, average='micro')\n",
        "recall = recall_score(y5_test, y5_pred, average='micro')\n",
        "precision = precision_score(y5_test, y5_pred, average='micro')\n",
        "accuracy = accuracy_score(y5_test, y5_pred)\n",
        "f1, recall, precision, accuracy"
      ]
    },
    {
      "cell_type": "code",
      "source": [
        "data = {'f1': f1 ,'precision': precision , 'accuracy': accuracy , 'recall': recall}\n",
        "param = list(data.keys())\n",
        "pred = list(data.values())\n",
        "fig = plt.figure(figsize = (10, 5))\n",
        "plt.bar(param,pred,color = 'maroon',width = 0.4)\n",
        "plt.title('K-Nearest Neighbours Classifier Results')\n",
        "plt.show()"
      ],
      "metadata": {
        "colab": {
          "base_uri": "https://localhost:8080/",
          "height": 336
        },
        "id": "J9gcaM3urjYu",
        "outputId": "e6adf7c9-5879-4e8b-ec96-3f43abf57565"
      },
      "execution_count": null,
      "outputs": [
        {
          "output_type": "display_data",
          "data": {
            "text/plain": [
              "<Figure size 720x360 with 1 Axes>"
            ],
            "image/png": "[encoded data removed]"
          },
          "metadata": {
            "needs_background": "light"
          }
        }
      ]
    },
    {
      "cell_type": "markdown",
      "source": [
        "Gaussian Classifiers"
      ],
      "metadata": {
        "id": "hVnPBmLGOO_S"
      }
    },
    {
      "cell_type": "code",
      "execution_count": null,
      "metadata": {
        "colab": {
          "base_uri": "https://localhost:8080/"
        },
        "id": "8nUwPYR6ENR0",
        "outputId": "89d43817-81a8-418c-c1ae-d6f6cc01692d"
      },
      "outputs": [
        {
          "output_type": "execute_result",
          "data": {
            "text/plain": [
              "GaussianNB()"
            ]
          },
          "metadata": {},
          "execution_count": 56
        }
      ],
      "source": [
        "x6_train, x6_test, y6_train, y6_test = train_test_split(X, Y, test_size=0.3, random_state=0)\n",
        "gnb = GaussianNB()\n",
        "gnb.fit(x6_train, y6_train)"
      ]
    },
    {
      "cell_type": "code",
      "execution_count": null,
      "metadata": {
        "colab": {
          "base_uri": "https://localhost:8080/"
        },
        "id": "vyCgRKzxENH8",
        "outputId": "cf5fba90-fbb3-46f3-9b63-0a95a813c877"
      },
      "outputs": [
        {
          "output_type": "execute_result",
          "data": {
            "text/plain": [
              "array(['Hi', 'Happy', 'Happy', 'Hi', 'ThankYou', 'Bye', 'ThankYou', 'yes',\n",
              "       'yes', 'Hi', 'Hi', 'Bye', 'yes', 'yes', 'Bye', 'Bye', 'ThankYou',\n",
              "       'Bye', 'ThankYou', 'Bye', 'Hi', 'Happy', 'ThankYou', 'no',\n",
              "       'ThankYou', 'yes', 'Happy', 'Happy', 'Bye', 'yes', 'Hi', 'Hi',\n",
              "       'ThankYou', 'yes', 'Happy', 'Hi', 'Bye', 'yes', 'Bye', 'ThankYou',\n",
              "       'Bye', 'Happy', 'no', 'Happy', 'Bye', 'no', 'Hi', 'Hi', 'ThankYou',\n",
              "       'no', 'Hi', 'Hi', 'ThankYou', 'ThankYou', 'no', 'Hi', 'yes', 'Bye',\n",
              "       'no', 'Bye', 'ThankYou', 'Hi', 'no', 'Hi', 'yes', 'Happy', 'no',\n",
              "       'Bye', 'Happy', 'no', 'Happy', 'Happy', 'Bye', 'Bye', 'Hi',\n",
              "       'Happy', 'ThankYou', 'Happy', 'Happy', 'ThankYou', 'Happy',\n",
              "       'Happy', 'Happy', 'Happy', 'yes', 'Hi', 'ThankYou', 'yes', 'Hi',\n",
              "       'yes', 'Bye', 'no', 'Happy', 'no', 'Happy', 'Happy', 'no', 'no',\n",
              "       'ThankYou', 'Happy', 'Happy', 'yes', 'yes', 'ThankYou', 'Hi',\n",
              "       'yes', 'Hi', 'ThankYou', 'ThankYou', 'yes', 'Bye', 'Hi', 'no',\n",
              "       'yes', 'ThankYou', 'Happy', 'Happy', 'Bye', 'Bye', 'yes', 'Bye',\n",
              "       'yes', 'yes', 'Hi', 'Bye', 'Hi', 'ThankYou', 'Happy', 'Hi',\n",
              "       'ThankYou', 'ThankYou', 'Bye', 'no', 'yes', 'ThankYou', 'no',\n",
              "       'ThankYou', 'Hi', 'Hi', 'Hi', 'Happy', 'ThankYou', 'yes', 'no',\n",
              "       'Happy', 'ThankYou', 'ThankYou', 'ThankYou', 'Happy', 'ThankYou',\n",
              "       'Hi', 'Hi', 'no', 'Bye', 'Hi', 'Happy', 'Hi', 'Happy', 'Bye', 'no',\n",
              "       'Bye', 'no', 'no', 'yes', 'Bye', 'Happy', 'Hi', 'Bye', 'no', 'no',\n",
              "       'Happy', 'ThankYou', 'Hi', 'Hi', 'Bye', 'no', 'Hi', 'no', 'Bye',\n",
              "       'yes'], dtype='<U8')"
            ]
          },
          "metadata": {},
          "execution_count": 57
        }
      ],
      "source": [
        "y6_pred = gnb.predict(x6_test)\n",
        "y6_pred\n"
      ]
    },
    {
      "cell_type": "code",
      "source": [
        "plt.title('Gaussian Naive Bayes Classifier Results')\n",
        "sns.countplot(y4_pred)"
      ],
      "metadata": {
        "colab": {
          "base_uri": "https://localhost:8080/",
          "height": 353
        },
        "id": "V_d5XnK4sUm_",
        "outputId": "fe0d6404-177b-42b7-c58c-9ba9c5c5116f"
      },
      "execution_count": null,
      "outputs": [
        {
          "output_type": "stream",
          "name": "stderr",
          "text": [
            "/usr/local/lib/python3.7/dist-packages/seaborn/_decorators.py:43: FutureWarning: Pass the following variable as a keyword arg: x. From version 0.12, the only valid positional argument will be `data`, and passing other arguments without an explicit keyword will result in an error or misinterpretation.\n",
            "  FutureWarning\n"
          ]
        },
        {
          "output_type": "execute_result",
          "data": {
            "text/plain": [
              "<matplotlib.axes._subplots.AxesSubplot at 0x7f98b24e9890>"
            ]
          },
          "metadata": {},
          "execution_count": 58
        },
        {
          "output_type": "display_data",
          "data": {
            "text/plain": [
              "<Figure size 432x288 with 1 Axes>"
            ],
            "image/png": "[encoded data removed]"
          },
          "metadata": {
            "needs_background": "light"
          }
        }
      ]
    },
    {
      "cell_type": "code",
      "execution_count": null,
      "metadata": {
        "colab": {
          "base_uri": "https://localhost:8080/"
        },
        "id": "IJGu0dyGGRfa",
        "outputId": "95c58b40-e261-451b-ce01-a24e3a007654"
      },
      "outputs": [
        {
          "output_type": "execute_result",
          "data": {
            "text/plain": [
              "(0.9055555555555556,\n",
              " 0.9055555555555556,\n",
              " 0.9055555555555556,\n",
              " 0.9055555555555556)"
            ]
          },
          "metadata": {},
          "execution_count": 59
        }
      ],
      "source": [
        "cf6_matrix = confusion_matrix(y6_test, y6_pred)\n",
        "f1 = f1_score(y6_test, y6_pred, average='micro')\n",
        "recall = recall_score(y6_test, y6_pred, average='micro')\n",
        "precision = precision_score(y6_test, y6_pred, average='micro')\n",
        "accuracy = accuracy_score(y6_test, y6_pred)\n",
        "f1, recall, precision, accuracy"
      ]
    },
    {
      "cell_type": "code",
      "source": [
        "data = {'f1': f1 ,'precision': precision , 'accuracy': accuracy , 'recall': recall}\n",
        "param = list(data.keys())\n",
        "pred = list(data.values())\n",
        "fig = plt.figure(figsize = (10, 5))\n",
        "plt.bar(param,pred,color = 'maroon',width = 0.4)\n",
        "plt.title('Gaussian Naive Bayes Classifier Results')\n",
        "plt.show()"
      ],
      "metadata": {
        "colab": {
          "base_uri": "https://localhost:8080/",
          "height": 336
        },
        "id": "AJe_FMuvrl3U",
        "outputId": "005f43ab-c840-4954-d986-dbf0b8a99c5a"
      },
      "execution_count": null,
      "outputs": [
        {
          "output_type": "display_data",
          "data": {
            "text/plain": [
              "<Figure size 720x360 with 1 Axes>"
            ],
            "image/png": "[encoded data removed]"
          },
          "metadata": {
            "needs_background": "light"
          }
        }
      ]
    },
    {
      "cell_type": "markdown",
      "source": [
        "Plotting the graph for the best accuracy classifier "
      ],
      "metadata": {
        "id": "iF4lRlO_OTYl"
      }
    },
    {
      "cell_type": "code",
      "execution_count": null,
      "metadata": {
        "colab": {
          "base_uri": "https://localhost:8080/",
          "height": 733
        },
        "id": "YDLzXUd6BkMj",
        "outputId": "005e8f5a-c808-4331-b645-34563cbc897e",
        "scrolled": true
      },
      "outputs": [
        {
          "output_type": "execute_result",
          "data": {
            "text/plain": [
              "<matplotlib.axes._subplots.AxesSubplot at 0x7f98b239b750>"
            ]
          },
          "metadata": {},
          "execution_count": 61
        },
        {
          "output_type": "display_data",
          "data": {
            "text/plain": [
              "<Figure size 864x864 with 2 Axes>"
            ],
            "image/png": "[encoded data removed]"
          },
          "metadata": {
            "needs_background": "light"
          }
        }
      ],
      "source": [
        "labels = sorted(list(set(df['Output'])))\n",
        "labels = [x.upper() for x in labels]\n",
        "\n",
        "fig, ax = plt.subplots(figsize=(12, 12))\n",
        "\n",
        "ax.set_title(\"Confusion Matrix for KNN - Face Recognition\")\n",
        "\n",
        "maping = sns.heatmap(cf5_matrix, \n",
        "                     annot=True,\n",
        "                     cmap = plt.cm.Blues, \n",
        "                     linewidths=.2,\n",
        "                     xticklabels=labels,\n",
        "                     yticklabels=labels, vmax=8,\n",
        "                     fmt='g',\n",
        "                     ax=ax\n",
        "                    )\n",
        "maping"
      ]
    },
    {
      "cell_type": "code",
      "execution_count": null,
      "metadata": {
        "id": "c5tG2Z8NBkMj"
      },
      "outputs": [],
      "source": [
        "import pickle\n",
        "\n",
        "# saving the model\n",
        "with open('drive/MyDrive/Colab_Assignments/NNFL/custom.pkl','wb') as f:\n",
        "    pickle.dump(rfc,f)"
      ]
    },
    {
      "cell_type": "code",
      "execution_count": null,
      "metadata": {
        "id": "epf3OymGBkMj"
      },
      "outputs": [],
      "source": [
        ""
      ]
    },
    {
      "cell_type": "code",
      "source": [
        ""
      ],
      "metadata": {
        "id": "0FEvL-fFrw4M"
      },
      "execution_count": null,
      "outputs": []
    }
  ],
  "metadata": {
    "accelerator": "GPU",
    "colab": {
      "name": "train.ipynb",
      "provenance": [],
      "include_colab_link": true
    },
    "interpreter": {
      "hash": "da02f3fccd87cb32942c311f4f3b948ad625fc48063dc2861a91e752e80f65b0"
    },
    "kernelspec": {
      "display_name": "Python 3 (ipykernel)",
      "language": "python",
      "name": "python3"
    },
    "language_info": {
      "codemirror_mode": {
        "name": "ipython",
        "version": 3
      },
      "file_extension": ".py",
      "mimetype": "text/x-python",
      "name": "python",
      "nbconvert_exporter": "python",
      "pygments_lexer": "ipython3",
      "version": "3.9.7"
    }
  },
  "nbformat": 4,
  "nbformat_minor": 0
}